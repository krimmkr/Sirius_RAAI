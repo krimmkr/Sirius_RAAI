{
  "nbformat": 4,
  "nbformat_minor": 0,
  "metadata": {
    "kernelspec": {
      "name": "python3",
      "display_name": "Python 3"
    },
    "language_info": {
      "codemirror_mode": {
        "name": "ipython",
        "version": 3
      },
      "file_extension": ".py",
      "mimetype": "text/x-python",
      "name": "python",
      "nbconvert_exporter": "python",
      "pygments_lexer": "ipython3",
      "version": "3.7.0"
    },
    "colab": {
      "name": "Копия блокнота \"Paper ranging.ipynb\"",
      "provenance": [],
      "collapsed_sections": [
        "JB3TMJNJ4Ow8",
        "ID759qhyFFvi",
        "_7WHtDoK7M_-",
        "H-h1d2aAOaeU",
        "tDV_rRtPWTi8"
      ]
    },
    "accelerator": "GPU"
  },
  "cells": [
    {
      "cell_type": "markdown",
      "metadata": {
        "id": "JB3TMJNJ4Ow8"
      },
      "source": [
        "# Настройка"
      ]
    },
    {
      "cell_type": "code",
      "metadata": {
        "id": "2CdvOKarZhd3",
        "colab": {
          "base_uri": "https://localhost:8080/"
        },
        "outputId": "197680a4-aad4-4504-f2e5-f80e099db5ef"
      },
      "source": [
        "!pip install -q bigartm10"
      ],
      "execution_count": null,
      "outputs": [
        {
          "output_type": "stream",
          "text": [
            "\u001b[?25l\r\u001b[K     |▏                               | 10kB 16.8MB/s eta 0:00:01\r\u001b[K     |▎                               | 20kB 21.5MB/s eta 0:00:01\r\u001b[K     |▌                               | 30kB 26.1MB/s eta 0:00:01\r\u001b[K     |▋                               | 40kB 27.1MB/s eta 0:00:01\r\u001b[K     |▉                               | 51kB 15.9MB/s eta 0:00:01\r\u001b[K     |█                               | 61kB 16.6MB/s eta 0:00:01\r\u001b[K     |█▏                              | 71kB 12.0MB/s eta 0:00:01\r\u001b[K     |█▎                              | 81kB 13.0MB/s eta 0:00:01\r\u001b[K     |█▌                              | 92kB 11.9MB/s eta 0:00:01\r\u001b[K     |█▋                              | 102kB 12.5MB/s eta 0:00:01\r\u001b[K     |█▊                              | 112kB 12.5MB/s eta 0:00:01\r\u001b[K     |██                              | 122kB 12.5MB/s eta 0:00:01\r\u001b[K     |██                              | 133kB 12.5MB/s eta 0:00:01\r\u001b[K     |██▎                             | 143kB 12.5MB/s eta 0:00:01\r\u001b[K     |██▍                             | 153kB 12.5MB/s eta 0:00:01\r\u001b[K     |██▋                             | 163kB 12.5MB/s eta 0:00:01\r\u001b[K     |██▊                             | 174kB 12.5MB/s eta 0:00:01\r\u001b[K     |███                             | 184kB 12.5MB/s eta 0:00:01\r\u001b[K     |███                             | 194kB 12.5MB/s eta 0:00:01\r\u001b[K     |███▎                            | 204kB 12.5MB/s eta 0:00:01\r\u001b[K     |███▍                            | 215kB 12.5MB/s eta 0:00:01\r\u001b[K     |███▌                            | 225kB 12.5MB/s eta 0:00:01\r\u001b[K     |███▊                            | 235kB 12.5MB/s eta 0:00:01\r\u001b[K     |███▉                            | 245kB 12.5MB/s eta 0:00:01\r\u001b[K     |████                            | 256kB 12.5MB/s eta 0:00:01\r\u001b[K     |████▏                           | 266kB 12.5MB/s eta 0:00:01\r\u001b[K     |████▍                           | 276kB 12.5MB/s eta 0:00:01\r\u001b[K     |████▌                           | 286kB 12.5MB/s eta 0:00:01\r\u001b[K     |████▊                           | 296kB 12.5MB/s eta 0:00:01\r\u001b[K     |████▉                           | 307kB 12.5MB/s eta 0:00:01\r\u001b[K     |█████                           | 317kB 12.5MB/s eta 0:00:01\r\u001b[K     |█████▏                          | 327kB 12.5MB/s eta 0:00:01\r\u001b[K     |█████▎                          | 337kB 12.5MB/s eta 0:00:01\r\u001b[K     |█████▌                          | 348kB 12.5MB/s eta 0:00:01\r\u001b[K     |█████▋                          | 358kB 12.5MB/s eta 0:00:01\r\u001b[K     |█████▉                          | 368kB 12.5MB/s eta 0:00:01\r\u001b[K     |██████                          | 378kB 12.5MB/s eta 0:00:01\r\u001b[K     |██████▏                         | 389kB 12.5MB/s eta 0:00:01\r\u001b[K     |██████▎                         | 399kB 12.5MB/s eta 0:00:01\r\u001b[K     |██████▌                         | 409kB 12.5MB/s eta 0:00:01\r\u001b[K     |██████▋                         | 419kB 12.5MB/s eta 0:00:01\r\u001b[K     |██████▉                         | 430kB 12.5MB/s eta 0:00:01\r\u001b[K     |███████                         | 440kB 12.5MB/s eta 0:00:01\r\u001b[K     |███████                         | 450kB 12.5MB/s eta 0:00:01\r\u001b[K     |███████▎                        | 460kB 12.5MB/s eta 0:00:01\r\u001b[K     |███████▍                        | 471kB 12.5MB/s eta 0:00:01\r\u001b[K     |███████▋                        | 481kB 12.5MB/s eta 0:00:01\r\u001b[K     |███████▊                        | 491kB 12.5MB/s eta 0:00:01\r\u001b[K     |████████                        | 501kB 12.5MB/s eta 0:00:01\r\u001b[K     |████████                        | 512kB 12.5MB/s eta 0:00:01\r\u001b[K     |████████▎                       | 522kB 12.5MB/s eta 0:00:01\r\u001b[K     |████████▍                       | 532kB 12.5MB/s eta 0:00:01\r\u001b[K     |████████▋                       | 542kB 12.5MB/s eta 0:00:01\r\u001b[K     |████████▊                       | 552kB 12.5MB/s eta 0:00:01\r\u001b[K     |████████▉                       | 563kB 12.5MB/s eta 0:00:01\r\u001b[K     |█████████                       | 573kB 12.5MB/s eta 0:00:01\r\u001b[K     |█████████▏                      | 583kB 12.5MB/s eta 0:00:01\r\u001b[K     |█████████▍                      | 593kB 12.5MB/s eta 0:00:01\r\u001b[K     |█████████▌                      | 604kB 12.5MB/s eta 0:00:01\r\u001b[K     |█████████▊                      | 614kB 12.5MB/s eta 0:00:01\r\u001b[K     |█████████▉                      | 624kB 12.5MB/s eta 0:00:01\r\u001b[K     |██████████                      | 634kB 12.5MB/s eta 0:00:01\r\u001b[K     |██████████▏                     | 645kB 12.5MB/s eta 0:00:01\r\u001b[K     |██████████▍                     | 655kB 12.5MB/s eta 0:00:01\r\u001b[K     |██████████▌                     | 665kB 12.5MB/s eta 0:00:01\r\u001b[K     |██████████▋                     | 675kB 12.5MB/s eta 0:00:01\r\u001b[K     |██████████▉                     | 686kB 12.5MB/s eta 0:00:01\r\u001b[K     |███████████                     | 696kB 12.5MB/s eta 0:00:01\r\u001b[K     |███████████▏                    | 706kB 12.5MB/s eta 0:00:01\r\u001b[K     |███████████▎                    | 716kB 12.5MB/s eta 0:00:01\r\u001b[K     |███████████▌                    | 727kB 12.5MB/s eta 0:00:01\r\u001b[K     |███████████▋                    | 737kB 12.5MB/s eta 0:00:01\r\u001b[K     |███████████▉                    | 747kB 12.5MB/s eta 0:00:01\r\u001b[K     |████████████                    | 757kB 12.5MB/s eta 0:00:01\r\u001b[K     |████████████▏                   | 768kB 12.5MB/s eta 0:00:01\r\u001b[K     |████████████▎                   | 778kB 12.5MB/s eta 0:00:01\r\u001b[K     |████████████▍                   | 788kB 12.5MB/s eta 0:00:01\r\u001b[K     |████████████▋                   | 798kB 12.5MB/s eta 0:00:01\r\u001b[K     |████████████▊                   | 808kB 12.5MB/s eta 0:00:01\r\u001b[K     |█████████████                   | 819kB 12.5MB/s eta 0:00:01\r\u001b[K     |█████████████                   | 829kB 12.5MB/s eta 0:00:01\r\u001b[K     |█████████████▎                  | 839kB 12.5MB/s eta 0:00:01\r\u001b[K     |█████████████▍                  | 849kB 12.5MB/s eta 0:00:01\r\u001b[K     |█████████████▋                  | 860kB 12.5MB/s eta 0:00:01\r\u001b[K     |█████████████▊                  | 870kB 12.5MB/s eta 0:00:01\r\u001b[K     |██████████████                  | 880kB 12.5MB/s eta 0:00:01\r\u001b[K     |██████████████                  | 890kB 12.5MB/s eta 0:00:01\r\u001b[K     |██████████████▏                 | 901kB 12.5MB/s eta 0:00:01\r\u001b[K     |██████████████▍                 | 911kB 12.5MB/s eta 0:00:01\r\u001b[K     |██████████████▌                 | 921kB 12.5MB/s eta 0:00:01\r\u001b[K     |██████████████▊                 | 931kB 12.5MB/s eta 0:00:01\r\u001b[K     |██████████████▉                 | 942kB 12.5MB/s eta 0:00:01\r\u001b[K     |███████████████                 | 952kB 12.5MB/s eta 0:00:01\r\u001b[K     |███████████████▏                | 962kB 12.5MB/s eta 0:00:01\r\u001b[K     |███████████████▍                | 972kB 12.5MB/s eta 0:00:01\r\u001b[K     |███████████████▌                | 983kB 12.5MB/s eta 0:00:01\r\u001b[K     |███████████████▊                | 993kB 12.5MB/s eta 0:00:01\r\u001b[K     |███████████████▉                | 1.0MB 12.5MB/s eta 0:00:01\r\u001b[K     |████████████████                | 1.0MB 12.5MB/s eta 0:00:01\r\u001b[K     |████████████████▏               | 1.0MB 12.5MB/s eta 0:00:01\r\u001b[K     |████████████████▎               | 1.0MB 12.5MB/s eta 0:00:01\r\u001b[K     |████████████████▌               | 1.0MB 12.5MB/s eta 0:00:01\r\u001b[K     |████████████████▋               | 1.1MB 12.5MB/s eta 0:00:01\r\u001b[K     |████████████████▉               | 1.1MB 12.5MB/s eta 0:00:01\r\u001b[K     |█████████████████               | 1.1MB 12.5MB/s eta 0:00:01\r\u001b[K     |█████████████████▏              | 1.1MB 12.5MB/s eta 0:00:01\r\u001b[K     |█████████████████▎              | 1.1MB 12.5MB/s eta 0:00:01\r\u001b[K     |█████████████████▍              | 1.1MB 12.5MB/s eta 0:00:01\r\u001b[K     |█████████████████▋              | 1.1MB 12.5MB/s eta 0:00:01\r\u001b[K     |█████████████████▊              | 1.1MB 12.5MB/s eta 0:00:01\r\u001b[K     |██████████████████              | 1.1MB 12.5MB/s eta 0:00:01\r\u001b[K     |██████████████████              | 1.1MB 12.5MB/s eta 0:00:01\r\u001b[K     |██████████████████▎             | 1.2MB 12.5MB/s eta 0:00:01\r\u001b[K     |██████████████████▍             | 1.2MB 12.5MB/s eta 0:00:01\r\u001b[K     |██████████████████▋             | 1.2MB 12.5MB/s eta 0:00:01\r\u001b[K     |██████████████████▊             | 1.2MB 12.5MB/s eta 0:00:01\r\u001b[K     |███████████████████             | 1.2MB 12.5MB/s eta 0:00:01\r\u001b[K     |███████████████████             | 1.2MB 12.5MB/s eta 0:00:01\r\u001b[K     |███████████████████▏            | 1.2MB 12.5MB/s eta 0:00:01\r\u001b[K     |███████████████████▍            | 1.2MB 12.5MB/s eta 0:00:01\r\u001b[K     |███████████████████▌            | 1.2MB 12.5MB/s eta 0:00:01\r\u001b[K     |███████████████████▊            | 1.2MB 12.5MB/s eta 0:00:01\r\u001b[K     |███████████████████▉            | 1.3MB 12.5MB/s eta 0:00:01\r\u001b[K     |████████████████████            | 1.3MB 12.5MB/s eta 0:00:01\r\u001b[K     |████████████████████▏           | 1.3MB 12.5MB/s eta 0:00:01\r\u001b[K     |████████████████████▍           | 1.3MB 12.5MB/s eta 0:00:01\r\u001b[K     |████████████████████▌           | 1.3MB 12.5MB/s eta 0:00:01\r\u001b[K     |████████████████████▊           | 1.3MB 12.5MB/s eta 0:00:01\r\u001b[K     |████████████████████▉           | 1.3MB 12.5MB/s eta 0:00:01\r\u001b[K     |█████████████████████           | 1.3MB 12.5MB/s eta 0:00:01\r\u001b[K     |█████████████████████▏          | 1.3MB 12.5MB/s eta 0:00:01\r\u001b[K     |█████████████████████▎          | 1.4MB 12.5MB/s eta 0:00:01\r\u001b[K     |█████████████████████▌          | 1.4MB 12.5MB/s eta 0:00:01\r\u001b[K     |█████████████████████▋          | 1.4MB 12.5MB/s eta 0:00:01\r\u001b[K     |█████████████████████▉          | 1.4MB 12.5MB/s eta 0:00:01\r\u001b[K     |██████████████████████          | 1.4MB 12.5MB/s eta 0:00:01\r\u001b[K     |██████████████████████▏         | 1.4MB 12.5MB/s eta 0:00:01\r\u001b[K     |██████████████████████▎         | 1.4MB 12.5MB/s eta 0:00:01\r\u001b[K     |██████████████████████▌         | 1.4MB 12.5MB/s eta 0:00:01\r\u001b[K     |██████████████████████▋         | 1.4MB 12.5MB/s eta 0:00:01\r\u001b[K     |██████████████████████▊         | 1.4MB 12.5MB/s eta 0:00:01\r\u001b[K     |███████████████████████         | 1.5MB 12.5MB/s eta 0:00:01\r\u001b[K     |███████████████████████         | 1.5MB 12.5MB/s eta 0:00:01\r\u001b[K     |███████████████████████▎        | 1.5MB 12.5MB/s eta 0:00:01\r\u001b[K     |███████████████████████▍        | 1.5MB 12.5MB/s eta 0:00:01\r\u001b[K     |███████████████████████▋        | 1.5MB 12.5MB/s eta 0:00:01\r\u001b[K     |███████████████████████▊        | 1.5MB 12.5MB/s eta 0:00:01\r\u001b[K     |████████████████████████        | 1.5MB 12.5MB/s eta 0:00:01\r\u001b[K     |████████████████████████        | 1.5MB 12.5MB/s eta 0:00:01\r\u001b[K     |████████████████████████▎       | 1.5MB 12.5MB/s eta 0:00:01\r\u001b[K     |████████████████████████▍       | 1.5MB 12.5MB/s eta 0:00:01\r\u001b[K     |████████████████████████▌       | 1.6MB 12.5MB/s eta 0:00:01\r\u001b[K     |████████████████████████▊       | 1.6MB 12.5MB/s eta 0:00:01\r\u001b[K     |████████████████████████▉       | 1.6MB 12.5MB/s eta 0:00:01\r\u001b[K     |█████████████████████████       | 1.6MB 12.5MB/s eta 0:00:01\r\u001b[K     |█████████████████████████▏      | 1.6MB 12.5MB/s eta 0:00:01\r\u001b[K     |█████████████████████████▍      | 1.6MB 12.5MB/s eta 0:00:01\r\u001b[K     |█████████████████████████▌      | 1.6MB 12.5MB/s eta 0:00:01\r\u001b[K     |█████████████████████████▊      | 1.6MB 12.5MB/s eta 0:00:01\r\u001b[K     |█████████████████████████▉      | 1.6MB 12.5MB/s eta 0:00:01\r\u001b[K     |██████████████████████████      | 1.6MB 12.5MB/s eta 0:00:01\r\u001b[K     |██████████████████████████▏     | 1.7MB 12.5MB/s eta 0:00:01\r\u001b[K     |██████████████████████████▎     | 1.7MB 12.5MB/s eta 0:00:01\r\u001b[K     |██████████████████████████▌     | 1.7MB 12.5MB/s eta 0:00:01\r\u001b[K     |██████████████████████████▋     | 1.7MB 12.5MB/s eta 0:00:01\r\u001b[K     |██████████████████████████▉     | 1.7MB 12.5MB/s eta 0:00:01\r\u001b[K     |███████████████████████████     | 1.7MB 12.5MB/s eta 0:00:01\r\u001b[K     |███████████████████████████▏    | 1.7MB 12.5MB/s eta 0:00:01\r\u001b[K     |███████████████████████████▎    | 1.7MB 12.5MB/s eta 0:00:01\r\u001b[K     |███████████████████████████▌    | 1.7MB 12.5MB/s eta 0:00:01\r\u001b[K     |███████████████████████████▋    | 1.8MB 12.5MB/s eta 0:00:01\r\u001b[K     |███████████████████████████▉    | 1.8MB 12.5MB/s eta 0:00:01\r\u001b[K     |████████████████████████████    | 1.8MB 12.5MB/s eta 0:00:01\r\u001b[K     |████████████████████████████    | 1.8MB 12.5MB/s eta 0:00:01\r\u001b[K     |████████████████████████████▎   | 1.8MB 12.5MB/s eta 0:00:01\r\u001b[K     |████████████████████████████▍   | 1.8MB 12.5MB/s eta 0:00:01\r\u001b[K     |████████████████████████████▋   | 1.8MB 12.5MB/s eta 0:00:01\r\u001b[K     |████████████████████████████▊   | 1.8MB 12.5MB/s eta 0:00:01\r\u001b[K     |█████████████████████████████   | 1.8MB 12.5MB/s eta 0:00:01\r\u001b[K     |█████████████████████████████   | 1.8MB 12.5MB/s eta 0:00:01\r\u001b[K     |█████████████████████████████▎  | 1.9MB 12.5MB/s eta 0:00:01\r\u001b[K     |█████████████████████████████▍  | 1.9MB 12.5MB/s eta 0:00:01\r\u001b[K     |█████████████████████████████▋  | 1.9MB 12.5MB/s eta 0:00:01\r\u001b[K     |█████████████████████████████▊  | 1.9MB 12.5MB/s eta 0:00:01\r\u001b[K     |█████████████████████████████▉  | 1.9MB 12.5MB/s eta 0:00:01\r\u001b[K     |██████████████████████████████  | 1.9MB 12.5MB/s eta 0:00:01\r\u001b[K     |██████████████████████████████▏ | 1.9MB 12.5MB/s eta 0:00:01\r\u001b[K     |██████████████████████████████▍ | 1.9MB 12.5MB/s eta 0:00:01\r\u001b[K     |██████████████████████████████▌ | 1.9MB 12.5MB/s eta 0:00:01\r\u001b[K     |██████████████████████████████▊ | 1.9MB 12.5MB/s eta 0:00:01\r\u001b[K     |██████████████████████████████▉ | 2.0MB 12.5MB/s eta 0:00:01\r\u001b[K     |███████████████████████████████ | 2.0MB 12.5MB/s eta 0:00:01\r\u001b[K     |███████████████████████████████▏| 2.0MB 12.5MB/s eta 0:00:01\r\u001b[K     |███████████████████████████████▍| 2.0MB 12.5MB/s eta 0:00:01\r\u001b[K     |███████████████████████████████▌| 2.0MB 12.5MB/s eta 0:00:01\r\u001b[K     |███████████████████████████████▋| 2.0MB 12.5MB/s eta 0:00:01\r\u001b[K     |███████████████████████████████▉| 2.0MB 12.5MB/s eta 0:00:01\r\u001b[K     |████████████████████████████████| 2.0MB 12.5MB/s eta 0:00:01\r\u001b[K     |████████████████████████████████| 2.0MB 12.5MB/s \n",
            "\u001b[?25h"
          ],
          "name": "stdout"
        }
      ]
    },
    {
      "cell_type": "code",
      "metadata": {
        "id": "sZROBkRrOzsq"
      },
      "source": [
        "import matplotlib.pyplot as plt\n",
        "from tqdm import tqdm\n",
        "import pandas as pd\n",
        "import numpy as np\n",
        "import pickle\n",
        "import artm\n",
        "import IPython.display #needed to render in notebook\n",
        "import pydotplus #needed to convert dot format to png\n",
        "from collections import deque, defaultdict\n",
        "import matplotlib.pyplot as plt"
      ],
      "execution_count": null,
      "outputs": []
    },
    {
      "cell_type": "code",
      "metadata": {
        "id": "AyQJvSpFPOra",
        "colab": {
          "base_uri": "https://localhost:8080/",
          "height": 122
        },
        "outputId": "eda30516-1b53-4af2-a5c4-ac86d83d481a"
      },
      "source": [
        "from google.colab import drive\n",
        "drive.mount('/content/drive/')\n",
        "gDrivePath = \"/content/drive/My Drive/M1P/\""
      ],
      "execution_count": null,
      "outputs": [
        {
          "output_type": "stream",
          "text": [
            "Go to this URL in a browser: https://accounts.google.com/o/oauth2/auth?client_id=947318989803-6bn6qk8qdgf4n4g3pfee6491hc0brc4i.apps.googleusercontent.com&redirect_uri=urn%3aietf%3awg%3aoauth%3a2.0%3aoob&response_type=code&scope=email%20https%3a%2f%2fwww.googleapis.com%2fauth%2fdocs.test%20https%3a%2f%2fwww.googleapis.com%2fauth%2fdrive%20https%3a%2f%2fwww.googleapis.com%2fauth%2fdrive.photos.readonly%20https%3a%2f%2fwww.googleapis.com%2fauth%2fpeopleapi.readonly\n",
            "\n",
            "Enter your authorization code:\n",
            "··········\n",
            "Mounted at /content/drive/\n"
          ],
          "name": "stdout"
        }
      ]
    },
    {
      "cell_type": "code",
      "metadata": {
        "id": "YqmXNYEyN5ib"
      },
      "source": [
        "# НОМЕР ДЕРЕВА С КОТОРЫМ РАБОТАЕМ\n",
        "l = 0"
      ],
      "execution_count": null,
      "outputs": []
    },
    {
      "cell_type": "markdown",
      "metadata": {
        "id": "ID759qhyFFvi"
      },
      "source": [
        "# Выделяем N-граммы"
      ]
    },
    {
      "cell_type": "code",
      "metadata": {
        "id": "QD33DnDA-gET",
        "colab": {
          "base_uri": "https://localhost:8080/"
        },
        "outputId": "8482d993-b272-4ca4-b1f2-cea78ccbb163"
      },
      "source": [
        "ngramm = pd.read_csv(gDrivePath + '/data/wiki_ngrammed.csv' )#, usecols=[0,2])\n",
        "ngramm.rename(dict(zip(ngramm.columns, ['N', 'Text', 'N_gr'])), axis=1, inplace=True)\n",
        "print(ngramm.shape)\n",
        "ngramm.head()"
      ],
      "execution_count": null,
      "outputs": [
        {
          "output_type": "stream",
          "text": [
            "(9565, 3)\n"
          ],
          "name": "stdout"
        },
        {
          "output_type": "execute_result",
          "data": {
            "text/html": [
              "<div>\n",
              "<style scoped>\n",
              "    .dataframe tbody tr th:only-of-type {\n",
              "        vertical-align: middle;\n",
              "    }\n",
              "\n",
              "    .dataframe tbody tr th {\n",
              "        vertical-align: top;\n",
              "    }\n",
              "\n",
              "    .dataframe thead th {\n",
              "        text-align: right;\n",
              "    }\n",
              "</style>\n",
              "<table border=\"1\" class=\"dataframe\">\n",
              "  <thead>\n",
              "    <tr style=\"text-align: right;\">\n",
              "      <th></th>\n",
              "      <th>N</th>\n",
              "      <th>Text</th>\n",
              "      <th>N_gr</th>\n",
              "    </tr>\n",
              "  </thead>\n",
              "  <tbody>\n",
              "    <tr>\n",
              "      <th>0</th>\n",
              "      <td>761393</td>\n",
              "      <td>Дискретное пространство\\n\\nДискре́тное простра...</td>\n",
              "      <td>дискретный пространство дискре тной простр_нст...</td>\n",
              "    </tr>\n",
              "    <tr>\n",
              "      <th>1</th>\n",
              "      <td>52789</td>\n",
              "      <td>Теорема Дини\\n\\nТеорема Ди́ни о равномерной сх...</td>\n",
              "      <td>теорема диня теорема равномерный_сходимость по...</td>\n",
              "    </tr>\n",
              "    <tr>\n",
              "      <th>2</th>\n",
              "      <td>6759811</td>\n",
              "      <td>Граф Аполлония\\n\\nГраф Аполлония — неориентиро...</td>\n",
              "      <td>граф_аполлоний граф_аполлоний неориентированны...</td>\n",
              "    </tr>\n",
              "    <tr>\n",
              "      <th>3</th>\n",
              "      <td>8081403</td>\n",
              "      <td>Криптосистема Бонеха — Го — Ниссима\\n\\nКриптос...</td>\n",
              "      <td>криптосистема бонех ниссим криптосистема бонех...</td>\n",
              "    </tr>\n",
              "    <tr>\n",
              "      <th>4</th>\n",
              "      <td>1234825</td>\n",
              "      <td>Информационное множество\\n\\nИнформационное мно...</td>\n",
              "      <td>информационный множество информационный множес...</td>\n",
              "    </tr>\n",
              "  </tbody>\n",
              "</table>\n",
              "</div>"
            ],
            "text/plain": [
              "         N  ...                                               N_gr\n",
              "0   761393  ...  дискретный пространство дискре тной простр_нст...\n",
              "1    52789  ...  теорема диня теорема равномерный_сходимость по...\n",
              "2  6759811  ...  граф_аполлоний граф_аполлоний неориентированны...\n",
              "3  8081403  ...  криптосистема бонех ниссим криптосистема бонех...\n",
              "4  1234825  ...  информационный множество информационный множес...\n",
              "\n",
              "[5 rows x 3 columns]"
            ]
          },
          "metadata": {
            "tags": []
          },
          "execution_count": 48
        }
      ]
    },
    {
      "cell_type": "code",
      "metadata": {
        "id": "vzufGjpxEbwA",
        "colab": {
          "base_uri": "https://localhost:8080/",
          "height": 187
        },
        "outputId": "bd55a5ad-8b81-458b-e376-ffe9e2d63c07"
      },
      "source": [
        "ngramm.dropna(inplace=True)\n",
        "ngramm.info()"
      ],
      "execution_count": null,
      "outputs": [
        {
          "output_type": "stream",
          "text": [
            "<class 'pandas.core.frame.DataFrame'>\n",
            "Int64Index: 9503 entries, 0 to 9564\n",
            "Data columns (total 3 columns):\n",
            " #   Column  Non-Null Count  Dtype \n",
            "---  ------  --------------  ----- \n",
            " 0   N       9503 non-null   int64 \n",
            " 1   Text    9503 non-null   object\n",
            " 2   N_gr    9503 non-null   object\n",
            "dtypes: int64(1), object(2)\n",
            "memory usage: 297.0+ KB\n"
          ],
          "name": "stdout"
        }
      ]
    },
    {
      "cell_type": "code",
      "metadata": {
        "id": "d7XeskAibAOB",
        "colab": {
          "base_uri": "https://localhost:8080/",
          "height": 170
        },
        "outputId": "550e0dfa-526d-4b78-e941-18396801e2ff"
      },
      "source": [
        "ngramm[ngramm['N_gr'].isna()].N.values"
      ],
      "execution_count": null,
      "outputs": [
        {
          "output_type": "execute_result",
          "data": {
            "text/plain": [
              "array([  47232,   47295,   47179,   47171,   47248,    4854,   47176,\n",
              "       4355761, 3686366,   47174,  680236,   47268,   47218,  243521,\n",
              "         47225,   47191,   47278,   47233,   47275,   47255,  680305,\n",
              "        680277, 4355751,  680291,  680269,  680214,  680273,   47182,\n",
              "       2227777,   47241,   47166,   47184,   47267,   47167,   47161,\n",
              "         47175,   47296,   47215,  680206,   47192,   47293,   47195,\n",
              "        680267,   47181,   47222,   47205,   47198,   47302,   47172,\n",
              "       3707636,   47165,   47173, 3712464,   47269,   47196,   47160,\n",
              "       1120143,   47207,   47277,   47217,   47272,   47265])"
            ]
          },
          "metadata": {
            "tags": []
          },
          "execution_count": 9
        }
      ]
    },
    {
      "cell_type": "code",
      "metadata": {
        "id": "nXYTIEZG_QgW"
      },
      "source": [
        "def select_bm(s):\n",
        "    words = str(s).split()\n",
        "    res = ['', '']\n",
        "    for word in words:\n",
        "        if '_' in word:\n",
        "            res[0] += word + ' '\n",
        "        else:\n",
        "            res[1] += word + ' '\n",
        "    return res\n",
        "\n",
        "\n",
        "ngramm['N_gr'] = ngramm['N_gr'].apply(select_bm)"
      ],
      "execution_count": null,
      "outputs": []
    },
    {
      "cell_type": "code",
      "metadata": {
        "id": "Bm7rV35-Gq_P",
        "colab": {
          "base_uri": "https://localhost:8080/",
          "height": 204
        },
        "outputId": "dcb031c1-6b3e-44bc-dbdd-c885d5883b0f"
      },
      "source": [
        "ngramm.head()"
      ],
      "execution_count": null,
      "outputs": [
        {
          "output_type": "execute_result",
          "data": {
            "text/html": [
              "<div>\n",
              "<style scoped>\n",
              "    .dataframe tbody tr th:only-of-type {\n",
              "        vertical-align: middle;\n",
              "    }\n",
              "\n",
              "    .dataframe tbody tr th {\n",
              "        vertical-align: top;\n",
              "    }\n",
              "\n",
              "    .dataframe thead th {\n",
              "        text-align: right;\n",
              "    }\n",
              "</style>\n",
              "<table border=\"1\" class=\"dataframe\">\n",
              "  <thead>\n",
              "    <tr style=\"text-align: right;\">\n",
              "      <th></th>\n",
              "      <th>N</th>\n",
              "      <th>Text</th>\n",
              "      <th>N_gr</th>\n",
              "    </tr>\n",
              "  </thead>\n",
              "  <tbody>\n",
              "    <tr>\n",
              "      <th>0</th>\n",
              "      <td>761393</td>\n",
              "      <td>Дискретное пространство\\n\\nДискре́тное простра...</td>\n",
              "      <td>[простр_нство область_математика некоторый_смы...</td>\n",
              "    </tr>\n",
              "    <tr>\n",
              "      <th>1</th>\n",
              "      <td>52789</td>\n",
              "      <td>Теорема Дини\\n\\nТеорема Ди́ни о равномерной сх...</td>\n",
              "      <td>[равномерный_сходимость функция_formula компак...</td>\n",
              "    </tr>\n",
              "    <tr>\n",
              "      <th>2</th>\n",
              "      <td>6759811</td>\n",
              "      <td>Граф Аполлония\\n\\nГраф Аполлония — неориентиро...</td>\n",
              "      <td>[граф_аполлоний граф_аполлоний неориентированн...</td>\n",
              "    </tr>\n",
              "    <tr>\n",
              "      <th>3</th>\n",
              "      <td>8081403</td>\n",
              "      <td>Криптосистема Бонеха — Го — Ниссима\\n\\nКриптос...</td>\n",
              "      <td>[конечный_группа эллиптический_кривая позволят...</td>\n",
              "    </tr>\n",
              "    <tr>\n",
              "      <th>4</th>\n",
              "      <td>1234825</td>\n",
              "      <td>Информационное множество\\n\\nИнформационное мно...</td>\n",
              "      <td>[теория_игра игра_игра содержимый_элемент прот...</td>\n",
              "    </tr>\n",
              "  </tbody>\n",
              "</table>\n",
              "</div>"
            ],
            "text/plain": [
              "         N  ...                                               N_gr\n",
              "0   761393  ...  [простр_нство область_математика некоторый_смы...\n",
              "1    52789  ...  [равномерный_сходимость функция_formula компак...\n",
              "2  6759811  ...  [граф_аполлоний граф_аполлоний неориентированн...\n",
              "3  8081403  ...  [конечный_группа эллиптический_кривая позволят...\n",
              "4  1234825  ...  [теория_игра игра_игра содержимый_элемент прот...\n",
              "\n",
              "[5 rows x 3 columns]"
            ]
          },
          "metadata": {
            "tags": []
          },
          "execution_count": 80
        }
      ]
    },
    {
      "cell_type": "markdown",
      "metadata": {
        "id": "_7WHtDoK7M_-"
      },
      "source": [
        "# Вычленение только нужных статей"
      ]
    },
    {
      "cell_type": "code",
      "metadata": {
        "id": "GRB03yhjj15x",
        "colab": {
          "base_uri": "https://localhost:8080/",
          "height": 221
        },
        "outputId": "7eef5492-d798-4944-9d3b-9e9db5aaf318"
      },
      "source": [
        "with open(gDrivePath + '/data/needed_articles-1.bin', 'rb') as f:\n",
        "    needed1 = pickle.load(f)\n",
        "with open(gDrivePath + '/data/needed_articles-2.bin', 'rb') as f:\n",
        "    needed2 = pickle.load(f)\n",
        "need1 = pd.DataFrame(needed1, columns=['Name', 'N'])\n",
        "need2 = pd.DataFrame(needed2, columns=['Name', 'N'])\n",
        "need = pd.concat([need2, need1]).drop_duplicates().reset_index(drop=True)\n",
        "print(len(need))\n",
        "need.head()"
      ],
      "execution_count": null,
      "outputs": [
        {
          "output_type": "stream",
          "text": [
            "9580\n"
          ],
          "name": "stdout"
        },
        {
          "output_type": "execute_result",
          "data": {
            "text/html": [
              "<div>\n",
              "<style scoped>\n",
              "    .dataframe tbody tr th:only-of-type {\n",
              "        vertical-align: middle;\n",
              "    }\n",
              "\n",
              "    .dataframe tbody tr th {\n",
              "        vertical-align: top;\n",
              "    }\n",
              "\n",
              "    .dataframe thead th {\n",
              "        text-align: right;\n",
              "    }\n",
              "</style>\n",
              "<table border=\"1\" class=\"dataframe\">\n",
              "  <thead>\n",
              "    <tr style=\"text-align: right;\">\n",
              "      <th></th>\n",
              "      <th>Name</th>\n",
              "      <th>N</th>\n",
              "    </tr>\n",
              "  </thead>\n",
              "  <tbody>\n",
              "    <tr>\n",
              "      <th>0</th>\n",
              "      <td>Гамма-сходимость</td>\n",
              "      <td>5917575</td>\n",
              "    </tr>\n",
              "    <tr>\n",
              "      <th>1</th>\n",
              "      <td>Геометрический_центр</td>\n",
              "      <td>6989273</td>\n",
              "    </tr>\n",
              "    <tr>\n",
              "      <th>2</th>\n",
              "      <td>Задача_о_порядке_перемножения_матриц</td>\n",
              "      <td>1278010</td>\n",
              "    </tr>\n",
              "    <tr>\n",
              "      <th>3</th>\n",
              "      <td>Выпуклое_сопряжение</td>\n",
              "      <td>7860121</td>\n",
              "    </tr>\n",
              "    <tr>\n",
              "      <th>4</th>\n",
              "      <td>Вариационное_исчисление</td>\n",
              "      <td>68680</td>\n",
              "    </tr>\n",
              "  </tbody>\n",
              "</table>\n",
              "</div>"
            ],
            "text/plain": [
              "                                   Name        N\n",
              "0                      Гамма-сходимость  5917575\n",
              "1                  Геометрический_центр  6989273\n",
              "2  Задача_о_порядке_перемножения_матриц  1278010\n",
              "3                   Выпуклое_сопряжение  7860121\n",
              "4               Вариационное_исчисление    68680"
            ]
          },
          "metadata": {
            "tags": []
          },
          "execution_count": 177
        }
      ]
    },
    {
      "cell_type": "code",
      "metadata": {
        "id": "gyQK4O_srf1S",
        "colab": {
          "base_uri": "https://localhost:8080/",
          "height": 221
        },
        "outputId": "8dec87e9-6dea-4a23-c5d6-fab025fea724"
      },
      "source": [
        "with open(gDrivePath + '/data/needed_articles-2.bin', 'rb') as f:\n",
        "    needed = pickle.load(f)\n",
        "need = pd.DataFrame(needed, columns=['Name', 'N'])\n",
        "print(len(need))\n",
        "need.head()"
      ],
      "execution_count": null,
      "outputs": [
        {
          "output_type": "stream",
          "text": [
            "425\n"
          ],
          "name": "stdout"
        },
        {
          "output_type": "execute_result",
          "data": {
            "text/html": [
              "<div>\n",
              "<style scoped>\n",
              "    .dataframe tbody tr th:only-of-type {\n",
              "        vertical-align: middle;\n",
              "    }\n",
              "\n",
              "    .dataframe tbody tr th {\n",
              "        vertical-align: top;\n",
              "    }\n",
              "\n",
              "    .dataframe thead th {\n",
              "        text-align: right;\n",
              "    }\n",
              "</style>\n",
              "<table border=\"1\" class=\"dataframe\">\n",
              "  <thead>\n",
              "    <tr style=\"text-align: right;\">\n",
              "      <th></th>\n",
              "      <th>Name</th>\n",
              "      <th>N</th>\n",
              "    </tr>\n",
              "  </thead>\n",
              "  <tbody>\n",
              "    <tr>\n",
              "      <th>0</th>\n",
              "      <td>Упаковка_кругов_в_правильном_треугольнике</td>\n",
              "      <td>7036045</td>\n",
              "    </tr>\n",
              "    <tr>\n",
              "      <th>1</th>\n",
              "      <td>Минимальная_поверхность</td>\n",
              "      <td>172269</td>\n",
              "    </tr>\n",
              "    <tr>\n",
              "      <th>2</th>\n",
              "      <td>Метод_наименьших_модулей</td>\n",
              "      <td>2573587</td>\n",
              "    </tr>\n",
              "    <tr>\n",
              "      <th>3</th>\n",
              "      <td>Куст_событий</td>\n",
              "      <td>2247369</td>\n",
              "    </tr>\n",
              "    <tr>\n",
              "      <th>4</th>\n",
              "      <td>Байесовская_сеть</td>\n",
              "      <td>662368</td>\n",
              "    </tr>\n",
              "  </tbody>\n",
              "</table>\n",
              "</div>"
            ],
            "text/plain": [
              "                                        Name        N\n",
              "0  Упаковка_кругов_в_правильном_треугольнике  7036045\n",
              "1                    Минимальная_поверхность   172269\n",
              "2                   Метод_наименьших_модулей  2573587\n",
              "3                               Куст_событий  2247369\n",
              "4                           Байесовская_сеть   662368"
            ]
          },
          "metadata": {
            "tags": []
          },
          "execution_count": 17
        }
      ]
    },
    {
      "cell_type": "code",
      "metadata": {
        "id": "NJwOF49e8Me2",
        "colab": {
          "base_uri": "https://localhost:8080/",
          "height": 204
        },
        "outputId": "fe9b6853-b1aa-4d5e-e392-922f19d63061"
      },
      "source": [
        "df = pd.read_csv(gDrivePath + '/data/all_articles.csv')\n",
        "df.rename(dict(zip(df.columns, ['N', 'Text', 'Clean_text'])), axis=1, inplace=True)\n",
        "df.head()"
      ],
      "execution_count": null,
      "outputs": [
        {
          "output_type": "execute_result",
          "data": {
            "text/html": [
              "<div>\n",
              "<style scoped>\n",
              "    .dataframe tbody tr th:only-of-type {\n",
              "        vertical-align: middle;\n",
              "    }\n",
              "\n",
              "    .dataframe tbody tr th {\n",
              "        vertical-align: top;\n",
              "    }\n",
              "\n",
              "    .dataframe thead th {\n",
              "        text-align: right;\n",
              "    }\n",
              "</style>\n",
              "<table border=\"1\" class=\"dataframe\">\n",
              "  <thead>\n",
              "    <tr style=\"text-align: right;\">\n",
              "      <th></th>\n",
              "      <th>N</th>\n",
              "      <th>Text</th>\n",
              "      <th>Clean_text</th>\n",
              "    </tr>\n",
              "  </thead>\n",
              "  <tbody>\n",
              "    <tr>\n",
              "      <th>0</th>\n",
              "      <td>708071</td>\n",
              "      <td>Глазомер\\n\\nГлазоме́р — способность определять...</td>\n",
              "      <td>глазомер глазома способность определять рассто...</td>\n",
              "    </tr>\n",
              "    <tr>\n",
              "      <th>1</th>\n",
              "      <td>761393</td>\n",
              "      <td>Дискретное пространство\\n\\nДискре́тное простра...</td>\n",
              "      <td>дискретный пространство дискре тной простр нст...</td>\n",
              "    </tr>\n",
              "    <tr>\n",
              "      <th>2</th>\n",
              "      <td>7474856</td>\n",
              "      <td>Pterygoplichthys pardalis\\n\\nPterygoplichthys ...</td>\n",
              "      <td>pterygoplichthys pardalis pterygoplichthys par...</td>\n",
              "    </tr>\n",
              "    <tr>\n",
              "      <th>3</th>\n",
              "      <td>52789</td>\n",
              "      <td>Теорема Дини\\n\\nТеорема Ди́ни о равномерной сх...</td>\n",
              "      <td>теорема диня теорема ди равномерный сходимость...</td>\n",
              "    </tr>\n",
              "    <tr>\n",
              "      <th>4</th>\n",
              "      <td>6759811</td>\n",
              "      <td>Граф Аполлония\\n\\nГраф Аполлония — неориентиро...</td>\n",
              "      <td>граф аполлоний граф аполлоний неориентированны...</td>\n",
              "    </tr>\n",
              "  </tbody>\n",
              "</table>\n",
              "</div>"
            ],
            "text/plain": [
              "         N  ...                                         Clean_text\n",
              "0   708071  ...  глазомер глазома способность определять рассто...\n",
              "1   761393  ...  дискретный пространство дискре тной простр нст...\n",
              "2  7474856  ...  pterygoplichthys pardalis pterygoplichthys par...\n",
              "3    52789  ...  теорема диня теорема ди равномерный сходимость...\n",
              "4  6759811  ...  граф аполлоний граф аполлоний неориентированны...\n",
              "\n",
              "[5 rows x 3 columns]"
            ]
          },
          "metadata": {
            "tags": []
          },
          "execution_count": 18
        }
      ]
    },
    {
      "cell_type": "code",
      "metadata": {
        "id": "ZuW5wYRmj4Wo",
        "colab": {
          "base_uri": "https://localhost:8080/",
          "height": 221
        },
        "outputId": "49bd37ae-481e-45af-f892-be4a4b406f03"
      },
      "source": [
        "temp = pd.merge(df, need, on = 'N', how='inner')\n",
        "print(len(temp))\n",
        "temp.head()"
      ],
      "execution_count": null,
      "outputs": [
        {
          "output_type": "stream",
          "text": [
            "425\n"
          ],
          "name": "stdout"
        },
        {
          "output_type": "execute_result",
          "data": {
            "text/html": [
              "<div>\n",
              "<style scoped>\n",
              "    .dataframe tbody tr th:only-of-type {\n",
              "        vertical-align: middle;\n",
              "    }\n",
              "\n",
              "    .dataframe tbody tr th {\n",
              "        vertical-align: top;\n",
              "    }\n",
              "\n",
              "    .dataframe thead th {\n",
              "        text-align: right;\n",
              "    }\n",
              "</style>\n",
              "<table border=\"1\" class=\"dataframe\">\n",
              "  <thead>\n",
              "    <tr style=\"text-align: right;\">\n",
              "      <th></th>\n",
              "      <th>N</th>\n",
              "      <th>Text</th>\n",
              "      <th>Clean_text</th>\n",
              "      <th>Name</th>\n",
              "    </tr>\n",
              "  </thead>\n",
              "  <tbody>\n",
              "    <tr>\n",
              "      <th>0</th>\n",
              "      <td>3760340</td>\n",
              "      <td>Коэффициент Сёренсена\\n\\nМера Сёренсена — бина...</td>\n",
              "      <td>коэффициент сёренсена мера сёренсена бинарный ...</td>\n",
              "      <td>Коэффициент_Сёренсена</td>\n",
              "    </tr>\n",
              "    <tr>\n",
              "      <th>1</th>\n",
              "      <td>908756</td>\n",
              "      <td>Преобразование Лежандра\\n\\nПреобразование Лежа...</td>\n",
              "      <td>преобразование лежандра преобразование лежандр...</td>\n",
              "      <td>Преобразование_Лежандра</td>\n",
              "    </tr>\n",
              "    <tr>\n",
              "      <th>2</th>\n",
              "      <td>21855</td>\n",
              "      <td>Выпуклая функция\\n\\nВыпуклая функция (\"выпукла...</td>\n",
              "      <td>выпуклый функция выпуклый функция выпуклый вни...</td>\n",
              "      <td>Выпуклая_функция</td>\n",
              "    </tr>\n",
              "    <tr>\n",
              "      <th>3</th>\n",
              "      <td>7201977</td>\n",
              "      <td>Процессор машинного зрения\\n\\nПроцессор машинн...</td>\n",
              "      <td>процессор машинный зрение процессор машинный з...</td>\n",
              "      <td>Процессор_машинного_зрения</td>\n",
              "    </tr>\n",
              "    <tr>\n",
              "      <th>4</th>\n",
              "      <td>7044884</td>\n",
              "      <td>Плотная упаковка равных сфер\\n\\nПлотная упаков...</td>\n",
              "      <td>плотный упаковка равный сфера плотный упаковка...</td>\n",
              "      <td>Плотная_упаковка_равных_сфер</td>\n",
              "    </tr>\n",
              "  </tbody>\n",
              "</table>\n",
              "</div>"
            ],
            "text/plain": [
              "         N  ...                          Name\n",
              "0  3760340  ...         Коэффициент_Сёренсена\n",
              "1   908756  ...       Преобразование_Лежандра\n",
              "2    21855  ...              Выпуклая_функция\n",
              "3  7201977  ...    Процессор_машинного_зрения\n",
              "4  7044884  ...  Плотная_упаковка_равных_сфер\n",
              "\n",
              "[5 rows x 4 columns]"
            ]
          },
          "metadata": {
            "tags": []
          },
          "execution_count": 19
        }
      ]
    },
    {
      "cell_type": "code",
      "metadata": {
        "id": "FqHTtvmxBQdZ",
        "colab": {
          "base_uri": "https://localhost:8080/",
          "height": 204
        },
        "outputId": "fecd35f5-af58-4e04-d866-41db3d3d4560"
      },
      "source": [
        "temp.info()"
      ],
      "execution_count": null,
      "outputs": [
        {
          "output_type": "stream",
          "text": [
            "<class 'pandas.core.frame.DataFrame'>\n",
            "Int64Index: 425 entries, 0 to 424\n",
            "Data columns (total 4 columns):\n",
            " #   Column      Non-Null Count  Dtype \n",
            "---  ------      --------------  ----- \n",
            " 0   N           425 non-null    int64 \n",
            " 1   Text        425 non-null    object\n",
            " 2   Clean_text  425 non-null    object\n",
            " 3   Name        425 non-null    object\n",
            "dtypes: int64(1), object(3)\n",
            "memory usage: 16.6+ KB\n"
          ],
          "name": "stdout"
        }
      ]
    },
    {
      "cell_type": "code",
      "metadata": {
        "id": "-YyC4BAuq_B3",
        "colab": {
          "base_uri": "https://localhost:8080/",
          "height": 235
        },
        "outputId": "6a763aa8-f9de-413a-bfb2-2cad16d505a2"
      },
      "source": [
        "temp[temp['Clean_text'].isna()]"
      ],
      "execution_count": null,
      "outputs": [
        {
          "output_type": "execute_result",
          "data": {
            "text/html": [
              "<div>\n",
              "<style scoped>\n",
              "    .dataframe tbody tr th:only-of-type {\n",
              "        vertical-align: middle;\n",
              "    }\n",
              "\n",
              "    .dataframe tbody tr th {\n",
              "        vertical-align: top;\n",
              "    }\n",
              "\n",
              "    .dataframe thead th {\n",
              "        text-align: right;\n",
              "    }\n",
              "</style>\n",
              "<table border=\"1\" class=\"dataframe\">\n",
              "  <thead>\n",
              "    <tr style=\"text-align: right;\">\n",
              "      <th></th>\n",
              "      <th>N</th>\n",
              "      <th>Text</th>\n",
              "      <th>Clean_text</th>\n",
              "      <th>Name</th>\n",
              "    </tr>\n",
              "  </thead>\n",
              "  <tbody>\n",
              "    <tr>\n",
              "      <th>1467</th>\n",
              "      <td>47149</td>\n",
              "      <td>5 (число)\\n\\n\\n</td>\n",
              "      <td>NaN</td>\n",
              "      <td>5_(число)</td>\n",
              "    </tr>\n",
              "    <tr>\n",
              "      <th>3610</th>\n",
              "      <td>47148</td>\n",
              "      <td>4 (число)\\n\\n\\n</td>\n",
              "      <td>NaN</td>\n",
              "      <td>4_(число)</td>\n",
              "    </tr>\n",
              "    <tr>\n",
              "      <th>5093</th>\n",
              "      <td>42634</td>\n",
              "      <td>3 (число)\\n\\n\\n\\n</td>\n",
              "      <td>NaN</td>\n",
              "      <td>3_(число)</td>\n",
              "    </tr>\n",
              "    <tr>\n",
              "      <th>6166</th>\n",
              "      <td>47154</td>\n",
              "      <td>10 (число)\\n\\n</td>\n",
              "      <td>NaN</td>\n",
              "      <td>10_(число)</td>\n",
              "    </tr>\n",
              "    <tr>\n",
              "      <th>7088</th>\n",
              "      <td>47153</td>\n",
              "      <td>9 (число)\\n\\n\\n</td>\n",
              "      <td>NaN</td>\n",
              "      <td>9_(число)</td>\n",
              "    </tr>\n",
              "    <tr>\n",
              "      <th>9221</th>\n",
              "      <td>47150</td>\n",
              "      <td>6 (число)\\n\\n</td>\n",
              "      <td>NaN</td>\n",
              "      <td>6_(число)</td>\n",
              "    </tr>\n",
              "  </tbody>\n",
              "</table>\n",
              "</div>"
            ],
            "text/plain": [
              "          N               Text Clean_text        Name\n",
              "1467  47149    5 (число)\\n\\n\\n        NaN   5_(число)\n",
              "3610  47148    4 (число)\\n\\n\\n        NaN   4_(число)\n",
              "5093  42634  3 (число)\\n\\n\\n\\n        NaN   3_(число)\n",
              "6166  47154     10 (число)\\n\\n        NaN  10_(число)\n",
              "7088  47153    9 (число)\\n\\n\\n        NaN   9_(число)\n",
              "9221  47150      6 (число)\\n\\n        NaN   6_(число)"
            ]
          },
          "metadata": {
            "tags": []
          },
          "execution_count": 46
        }
      ]
    },
    {
      "cell_type": "markdown",
      "metadata": {
        "id": "Kk5A1vWUthk4"
      },
      "source": [
        "with open(gDrivePath + '/data/needed_articles-1.bin', 'wb') as f:\n",
        "    pickle.dump(needed, f)"
      ]
    },
    {
      "cell_type": "code",
      "metadata": {
        "id": "30zDJuLSBUIH"
      },
      "source": [
        "temp.dropna(inplace=True)"
      ],
      "execution_count": null,
      "outputs": []
    },
    {
      "cell_type": "code",
      "metadata": {
        "id": "kclSGd3R_P5O"
      },
      "source": [
        "temp.to_csv(gDrivePath + '/data/articles_2.csv')"
      ],
      "execution_count": null,
      "outputs": []
    },
    {
      "cell_type": "markdown",
      "metadata": {
        "id": "H-h1d2aAOaeU"
      },
      "source": [
        "# В vowpal_wabbit формат"
      ]
    },
    {
      "cell_type": "code",
      "metadata": {
        "id": "_wo-6UJSAHDr",
        "colab": {
          "base_uri": "https://localhost:8080/",
          "height": 204
        },
        "outputId": "cef00970-a75b-4050-81aa-d6c5d7f33361"
      },
      "source": [
        "temp.info()"
      ],
      "execution_count": null,
      "outputs": [
        {
          "output_type": "stream",
          "text": [
            "<class 'pandas.core.frame.DataFrame'>\n",
            "Int64Index: 9580 entries, 0 to 9579\n",
            "Data columns (total 4 columns):\n",
            " #   Column      Non-Null Count  Dtype \n",
            "---  ------      --------------  ----- \n",
            " 0   N           9580 non-null   int64 \n",
            " 1   Text        9580 non-null   object\n",
            " 2   Clean_text  9580 non-null   object\n",
            " 3   Name        9580 non-null   object\n",
            "dtypes: int64(1), object(3)\n",
            "memory usage: 374.2+ KB\n"
          ],
          "name": "stdout"
        }
      ]
    },
    {
      "cell_type": "code",
      "metadata": {
        "id": "mwhgFVJZOYpf",
        "colab": {
          "base_uri": "https://localhost:8080/",
          "height": 136
        },
        "outputId": "382b3962-3d61-459b-c665-fa0fbf305421"
      },
      "source": [
        "vw = temp.apply(lambda x: str(x['N']) + ' |text ' + x['Clean_text'], axis = 1)\n",
        "print(len(vw))\n",
        "vw.head()"
      ],
      "execution_count": null,
      "outputs": [
        {
          "output_type": "stream",
          "text": [
            "9580\n"
          ],
          "name": "stdout"
        },
        {
          "output_type": "execute_result",
          "data": {
            "text/plain": [
              "0    761393 |text дискретный пространство дискре тн...\n",
              "1    52789 |text теорема диня теорема ди равномерны...\n",
              "2    6759811 |text граф аполлоний граф аполлоний не...\n",
              "3    8081403 |text криптосистема бонех ниссим крипт...\n",
              "4    1234825 |text информационный множество информа...\n",
              "dtype: object"
            ]
          },
          "metadata": {
            "tags": []
          },
          "execution_count": 185
        }
      ]
    },
    {
      "cell_type": "code",
      "metadata": {
        "id": "ifBCMQKdFbqm",
        "colab": {
          "base_uri": "https://localhost:8080/",
          "height": 71
        },
        "outputId": "7c2acc75-3d00-4bd4-8018-f011df75778d"
      },
      "source": [
        "vw = ngramm.apply(lambda x: str(x['N']) + ' |words ' + x['N_gr'][1] + '|bigrams ' + x['N_gr'][0], axis = 1)\n",
        "print(len(vw))\n",
        "vw[0]"
      ],
      "execution_count": null,
      "outputs": [
        {
          "output_type": "stream",
          "text": [
            "9503\n"
          ],
          "name": "stdout"
        },
        {
          "output_type": "execute_result",
          "data": {
            "text/plain": [
              "'761393 |words дискретный пространство дискре тной топология смежный пространство изолировать дискре тной трика дискре тный метереть ческим топология индуцировать дискретный метрика дискретный метрика дискретный порождать дискретный топология |bigrams простр_нство область_математика некоторый_смысл formula_называться пространство_называться простр_нство обратный_неверный '"
            ]
          },
          "metadata": {
            "tags": []
          },
          "execution_count": 84
        }
      ]
    },
    {
      "cell_type": "code",
      "metadata": {
        "id": "YNdHvPASOYkS"
      },
      "source": [
        "# with open(gDrivePath + '/data/vw_art_0.txt', 'w') as fout:\n",
        "#     for line in vw:\n",
        "#         fout.write(line + '\\n')"
      ],
      "execution_count": null,
      "outputs": []
    },
    {
      "cell_type": "markdown",
      "metadata": {
        "id": "tDV_rRtPWTi8"
      },
      "source": [
        "# Строим тематические модели"
      ]
    },
    {
      "cell_type": "code",
      "metadata": {
        "id": "Td8CwU5ZWOWV"
      },
      "source": [
        "# batch_vectorizer = artm.BatchVectorizer(data_path=gDrivePath + '/data/vw_art_0.txt', data_format='vowpal_wabbit', collection_name='vw_art_0', target_folder=gDrivePath + '/data/batches_0')"
      ],
      "execution_count": null,
      "outputs": []
    },
    {
      "cell_type": "code",
      "metadata": {
        "id": "-Tz6t2vjWOQd"
      },
      "source": [
        "batch_vectorizer = artm.BatchVectorizer(data_path=gDrivePath + f'/data/batches_{l}', data_format = 'batches')"
      ],
      "execution_count": null,
      "outputs": []
    },
    {
      "cell_type": "code",
      "metadata": {
        "id": "yfQ2IqmMXYFS",
        "colab": {
          "base_uri": "https://localhost:8080/",
          "height": 34
        },
        "outputId": "68fb4fb5-e064-4fa6-a98e-acc716fa6397"
      },
      "source": [
        "dictionary = artm.Dictionary()\n",
        "dictionary.gather(data_path=batch_vectorizer.data_path)\n",
        "dictionary"
      ],
      "execution_count": null,
      "outputs": [
        {
          "output_type": "execute_result",
          "data": {
            "text/plain": [
              "artm.Dictionary(name=daf2d835-7d18-4e7c-9168-34f94c1a7d60, num_entries=89070)"
            ]
          },
          "metadata": {
            "tags": []
          },
          "execution_count": 193
        }
      ]
    },
    {
      "cell_type": "code",
      "metadata": {
        "id": "olNoWOB6XYBC"
      },
      "source": [
        "def print_topic_top_words(model, metric):\n",
        "    for topic_name in model.topic_names:\n",
        "      print(topic_name + ': '),\n",
        "      try:\n",
        "          print(\", \".join(model.score_tracker[metric].last_tokens[topic_name]))\n",
        "      except:\n",
        "          print(\"Not enough unigrams in a topic\")\n",
        "          print()"
      ],
      "execution_count": null,
      "outputs": []
    },
    {
      "cell_type": "markdown",
      "metadata": {
        "id": "XFUicKXl4d4z"
      },
      "source": [
        "## PLSA"
      ]
    },
    {
      "cell_type": "code",
      "metadata": {
        "id": "QqyrkMBHXYL8"
      },
      "source": [
        "model_plsa = artm.ARTM(topic_names=['topic_{}'.format(i) for i in range(14)],\n",
        "                       scores=[artm.PerplexityScore(name='PerplexityScore',\n",
        "                                                    dictionary=dictionary)],\n",
        "                       cache_theta=True, reuse_theta=True, theta_columns_naming='title')"
      ],
      "execution_count": null,
      "outputs": []
    },
    {
      "cell_type": "code",
      "metadata": {
        "id": "tGiZEciBXYKr"
      },
      "source": [
        "model_plsa.scores.add(artm.SparsityPhiScore(name='SparsityPhiScoreP', class_id='text', eps=1e-5))\n",
        "model_plsa.scores.add(artm.SparsityThetaScore(name='SparsityThetaScoreP', eps=8e-4))\n",
        "model_plsa.scores.add(artm.TopTokensScore(name='TopTokensScoreP', num_tokens=15, class_id='text'))"
      ],
      "execution_count": null,
      "outputs": []
    },
    {
      "cell_type": "code",
      "metadata": {
        "id": "Nf_kJg79XYJh"
      },
      "source": [
        "model_plsa.initialize(dictionary=dictionary)"
      ],
      "execution_count": null,
      "outputs": []
    },
    {
      "cell_type": "code",
      "metadata": {
        "id": "ZsfOhXhzXYCX",
        "colab": {
          "base_uri": "https://localhost:8080/",
          "height": 51
        },
        "outputId": "fc6ed8f8-f7bc-49f1-ace6-6bbbc48c70ce"
      },
      "source": [
        "%%time\n",
        "model_plsa.fit_offline(batch_vectorizer=batch_vectorizer, num_collection_passes=25)"
      ],
      "execution_count": null,
      "outputs": [
        {
          "output_type": "stream",
          "text": [
            "CPU times: user 2min 42s, sys: 1.8 s, total: 2min 44s\n",
            "Wall time: 1min 32s\n"
          ],
          "name": "stdout"
        }
      ]
    },
    {
      "cell_type": "code",
      "metadata": {
        "id": "-BIsWy5v0lGI",
        "colab": {
          "base_uri": "https://localhost:8080/",
          "height": 493
        },
        "outputId": "a9d6b163-5b0b-44ab-e98e-311894bf86d5"
      },
      "source": [
        "print_topic_top_words(model_plsa, 'TopTokensScoreP')"
      ],
      "execution_count": null,
      "outputs": [
        {
          "output_type": "stream",
          "text": [
            "topic_0: \n",
            "матрица, вектор, пространство, система, функция, оператор, линейный, операция, преобразование, векторный, вид, произведение, случай, базис, производный\n",
            "topic_1: \n",
            "треугольник, угол, окружность, сторона, игра, площадь, равный, прямая, длина, игрок, единица, теорема, центр, фигура, расстояние\n",
            "topic_2: \n",
            "система, решение, метод, управление, исследование, область, процесс, задача, сеть, искусственный, интеллект, использовать, знание, модель, университет\n",
            "topic_3: \n",
            "сигнал, частота, изображение, фильтр, система, код, напряжение, использоваться, входной, цифровой, использовать, канал, преобразование, метод, схема\n",
            "topic_4: \n",
            "система, пользователь, использовать, сеть, компания, версия, проект, использование, программа, позволять, файл, возможность, блок, программный, карта\n",
            "topic_5: \n",
            "группа, множество, элемент, пространство, formula_1, formula_2, кольцо, называться, отображение, многообразие, теорема, formula_3, конечный, поль, класс\n",
            "topic_6: \n",
            "буква, шифр, текст, машина, книга, использоваться, символ, использовать, язык, война, сша, часть, алфавит, век, имя\n",
            "topic_7: \n",
            "вероятность, распределение, значение, случайный, модель, метод, величина, оценка, случай, функция, параметр, средний, задача, использовать, выборка\n",
            "topic_8: \n",
            "ключ, алгоритм, шифрование, атака, использовать, битый, открытый, шифр, протокол, блок, использоваться, использование, текст, длина, подпись\n",
            "topic_9: \n",
            "алгоритм, узел, последовательность, строка, символ, дерево, элемент, поиск, простой, цифра, следующий, таблица, использовать, память, длина\n",
            "topic_10: \n",
            "функция, уравнение, решение, значение, метод, простой, formula_1, вид, ряд, formula_2, последовательность, теорема, формула, сумма, formula_3\n",
            "topic_11: \n",
            "система, уравнение, кривая, координата, симметрия, движение, скорость, частица, плоскость, ося, энергия, квантовый, сила, поверхность, случай\n",
            "topic_12: \n",
            "граф, вершина, задача, ребро, множество, цикл, существовать, прямая, плоскость, многогранник, грань, алгоритм, путь, решение, выпуклый\n",
            "topic_13: \n",
            "теория, математика, гипотеза, математический, доказательство, теорема, множество, доказать, геометрия, проблема, математик, анализ, понятие, век, аксиома\n"
          ],
          "name": "stdout"
        }
      ]
    },
    {
      "cell_type": "code",
      "metadata": {
        "id": "rBckL4TQ6V6o",
        "colab": {
          "base_uri": "https://localhost:8080/",
          "height": 51
        },
        "outputId": "7aca03b7-a7d8-40e5-afb2-530391917d9a"
      },
      "source": [
        "print(model_plsa.score_tracker['SparsityPhiScoreP'].last_value)\n",
        "print(model_plsa.score_tracker['SparsityThetaScoreP'].last_value)"
      ],
      "execution_count": null,
      "outputs": [
        {
          "output_type": "stream",
          "text": [
            "0.9310365915298462\n",
            "0.7407768964767456\n"
          ],
          "name": "stdout"
        }
      ]
    },
    {
      "cell_type": "code",
      "metadata": {
        "id": "FSo5vK34kxfa"
      },
      "source": [
        "F = model_plsa.get_theta()\n",
        "F.to_csv(gDrivePath+f'/data/plsa_theta.csv')"
      ],
      "execution_count": null,
      "outputs": []
    },
    {
      "cell_type": "markdown",
      "metadata": {
        "id": "tq0_BMei4pKl"
      },
      "source": [
        "## LDA"
      ]
    },
    {
      "cell_type": "code",
      "metadata": {
        "id": "sB0xN6tSjUAo"
      },
      "source": [
        "model_lda = artm.ARTM(topic_names=['topic_{}'.format(i) for i in range(14)],\n",
        "                       scores=[artm.PerplexityScore(name='PerplexityScore',\n",
        "                                                    dictionary=dictionary)],\n",
        "                       regularizers=[artm.SmoothSparseThetaRegularizer(name='SparseTheta', tau=-0.1),\n",
        "                                     artm.SmoothSparsePhiRegularizer(name='SparsePhi', tau=-0.1)],\n",
        "                       cache_theta=True, reuse_theta=True, theta_columns_naming='title')"
      ],
      "execution_count": null,
      "outputs": []
    },
    {
      "cell_type": "code",
      "metadata": {
        "id": "nMnspgCCmZfY"
      },
      "source": [
        "model_lda.scores.add(artm.SparsityPhiScore(name='SparsityPhiScoreL', class_id='text', eps=1e-5))\n",
        "model_lda.scores.add(artm.SparsityThetaScore(name='SparsityThetaScoreL', eps=1e-5))\n",
        "model_lda.scores.add(artm.TopTokensScore(name='TopTokensScoreL', num_tokens=15, class_id='text'))\n",
        "model_lda.initialize(dictionary=dictionary)"
      ],
      "execution_count": null,
      "outputs": []
    },
    {
      "cell_type": "code",
      "metadata": {
        "id": "kN3D7eHzmd9r",
        "colab": {
          "base_uri": "https://localhost:8080/",
          "height": 51
        },
        "outputId": "bc695b91-3b49-4877-e4d2-cd140205f473"
      },
      "source": [
        "%%time\n",
        "model_lda.fit_offline(batch_vectorizer=batch_vectorizer, num_collection_passes=25)"
      ],
      "execution_count": null,
      "outputs": [
        {
          "output_type": "stream",
          "text": [
            "CPU times: user 2min 49s, sys: 3.22 s, total: 2min 52s\n",
            "Wall time: 1min 39s\n"
          ],
          "name": "stdout"
        }
      ]
    },
    {
      "cell_type": "code",
      "metadata": {
        "id": "ha7Lx_eRuevm",
        "colab": {
          "base_uri": "https://localhost:8080/",
          "height": 68
        },
        "outputId": "5c08471d-4244-4006-dc66-2061dbe32391"
      },
      "source": [
        "print(model_lda.score_tracker['SparsityPhiScoreL'].last_value)\n",
        "print(model_lda.score_tracker['SparsityThetaScoreL'].last_value)\n",
        "theta0 = model_lda.get_theta()\n",
        "print('Num zeros col in theta: ', sum([(theta0[i] == 0).all() for i in theta0.columns]))"
      ],
      "execution_count": null,
      "outputs": [
        {
          "output_type": "stream",
          "text": [
            "0.9297903776168823\n",
            "0.7641813158988953\n",
            "Num zeros col in theta:  0\n"
          ],
          "name": "stdout"
        }
      ]
    },
    {
      "cell_type": "code",
      "metadata": {
        "id": "PTAVeiZZuV4R",
        "colab": {
          "base_uri": "https://localhost:8080/",
          "height": 493
        },
        "outputId": "ca923023-f4cb-498e-cdae-2958c40854f9"
      },
      "source": [
        "print_topic_top_words(model_lda, 'TopTokensScoreL')"
      ],
      "execution_count": null,
      "outputs": [
        {
          "output_type": "stream",
          "text": [
            "topic_0: \n",
            "функция, пространство, система, вектор, матрица, оператор, линейный, уравнение, вид, координата, случай, векторный, производный, операция, называться\n",
            "topic_1: \n",
            "угол, треугольник, сторона, равный, игра, длина, площадь, теорема, единица, окружность, игрок, координата, геометрия, век, круг\n",
            "topic_2: \n",
            "система, решение, метод, управление, задача, модель, процесс, область, исследование, обучение, университет, сеть, использовать, анализ, цель\n",
            "topic_3: \n",
            "сигнал, частота, фильтр, изображение, система, значение, напряжение, использоваться, схема, цифровой, код, входной, использовать, характеристика, ток\n",
            "topic_4: \n",
            "система, пользователь, блок, сеть, использовать, компания, версия, код, проект, транзакция, криптовалюта, использование, позволять, файл, возможность\n",
            "topic_5: \n",
            "группа, множество, элемент, formula_1, пространство, теорема, formula_2, называться, кольцо, formula_3, конечный, простой, существовать, formula_4, случай\n",
            "topic_6: \n",
            "буква, шифр, текст, машина, книга, символ, использоваться, язык, участник, использовать, сша, часть, век, война, алфавит\n",
            "topic_7: \n",
            "вероятность, распределение, значение, случайный, модель, величина, метод, случай, функция, оценка, параметр, средний, использовать, выборка, событие\n",
            "topic_8: \n",
            "ключ, алгоритм, использовать, шифрование, атака, открытый, шифр, битый, протокол, использоваться, использование, функция, блок, текст, следующий\n",
            "topic_9: \n",
            "алгоритм, узел, последовательность, простой, символ, строка, элемент, поиск, следующий, дерево, случай, длина, значение, сортировка, использовать\n",
            "topic_10: \n",
            "функция, уравнение, значение, метод, решение, ряд, вид, последовательность, простой, матрица, формула, formula_1, сумма, formula_2, теорема\n",
            "topic_11: \n",
            "система, кривая, прямая, уравнение, плоскость, окружность, координата, симметрия, движение, скорость, частица, сила, энергия, случай, ося\n",
            "topic_12: \n",
            "граф, вершина, задача, ребро, множество, существовать, цикл, решение, плоскость, алгоритм, многогранник, грань, прямая, случай, путь\n",
            "topic_13: \n",
            "теория, множество, математика, математический, гипотеза, квадрат, метод, анализ, проблема, доказательство, геометрия, свойство, мера, доказать, простой\n"
          ],
          "name": "stdout"
        }
      ]
    },
    {
      "cell_type": "code",
      "metadata": {
        "id": "sE8wY8sgmtnY"
      },
      "source": [
        "F = model_lda.get_theta()\n",
        "F.to_csv(gDrivePath+'/data/lda_theta.csv')"
      ],
      "execution_count": null,
      "outputs": []
    },
    {
      "cell_type": "markdown",
      "metadata": {
        "id": "i0vEZF6v4lbi"
      },
      "source": [
        "## ARTM"
      ]
    },
    {
      "cell_type": "code",
      "metadata": {
        "id": "C6g32ZmP6Zih"
      },
      "source": [
        "model_artm = artm.ARTM(topic_names=['topic_{}'.format(i) for i in range(14)],\n",
        "                       scores=[artm.PerplexityScore(name='PerplexityScore',\n",
        "                                                    dictionary=dictionary)],\n",
        "                       regularizers=[artm.SmoothSparseThetaRegularizer(name='SparseTheta', tau=-0.1),\n",
        "                                     artm.SmoothSparsePhiRegularizer(name='SparsePhi', tau=-0.1)],\n",
        "                       cache_theta=True, reuse_theta=True, theta_columns_naming='title')"
      ],
      "execution_count": null,
      "outputs": []
    },
    {
      "cell_type": "code",
      "metadata": {
        "id": "fHRKzgZ30Lxt"
      },
      "source": [
        "model_artm.regularizers.add(artm.DecorrelatorPhiRegularizer(name='DecorrelatorPhi', tau=-50e4))"
      ],
      "execution_count": null,
      "outputs": []
    },
    {
      "cell_type": "code",
      "metadata": {
        "id": "0VXFagbb0Lun"
      },
      "source": [
        "model_artm.scores.add(artm.SparsityPhiScore(name='SparsityPhiScoreA', class_id='text', eps=1e-5))\n",
        "model_artm.scores.add(artm.SparsityThetaScore(name='SparsityThetaScoreA', eps=1e-5))\n",
        "model_artm.scores.add(artm.TopTokensScore(name='TopTokensScoreA', num_tokens=15, class_id='text'))"
      ],
      "execution_count": null,
      "outputs": []
    },
    {
      "cell_type": "code",
      "metadata": {
        "id": "r4O4gFaM0LsL"
      },
      "source": [
        "model_artm.initialize(dictionary=dictionary)"
      ],
      "execution_count": null,
      "outputs": []
    },
    {
      "cell_type": "code",
      "metadata": {
        "id": "GGFwT1pZ0RPm",
        "colab": {
          "base_uri": "https://localhost:8080/",
          "height": 51
        },
        "outputId": "46b8f96f-895b-4fdc-98dd-f1172048e1d1"
      },
      "source": [
        "%%time\n",
        "model_artm.fit_offline(batch_vectorizer=batch_vectorizer, num_collection_passes=25)"
      ],
      "execution_count": null,
      "outputs": [
        {
          "output_type": "stream",
          "text": [
            "CPU times: user 2min 50s, sys: 3.11 s, total: 2min 53s\n",
            "Wall time: 1min 41s\n"
          ],
          "name": "stdout"
        }
      ]
    },
    {
      "cell_type": "code",
      "metadata": {
        "id": "0UuckHpn0RhL",
        "colab": {
          "base_uri": "https://localhost:8080/",
          "height": 68
        },
        "outputId": "42dc2205-c8c0-4748-dc97-fd90d9ca1986"
      },
      "source": [
        "print(model_artm.score_tracker['SparsityPhiScoreA'].last_value)\n",
        "print(model_artm.score_tracker['SparsityThetaScoreA'].last_value)\n",
        "theta0 = model_artm.get_theta()\n",
        "print('Num zeros col in theta: ', sum([(theta0[i] == 0).all() for i in theta0.columns]))"
      ],
      "execution_count": null,
      "outputs": [
        {
          "output_type": "stream",
          "text": [
            "0.9303942322731018\n",
            "0.7657247185707092\n",
            "Num zeros col in theta:  0\n"
          ],
          "name": "stdout"
        }
      ]
    },
    {
      "cell_type": "code",
      "metadata": {
        "id": "3YHangAA0RZ2",
        "colab": {
          "base_uri": "https://localhost:8080/",
          "height": 493
        },
        "outputId": "f432cbd6-a617-4947-eb99-f27c90ddeed5"
      },
      "source": [
        "print_topic_top_words(model_artm, 'TopTokensScoreA')"
      ],
      "execution_count": null,
      "outputs": [
        {
          "output_type": "stream",
          "text": [
            "topic_0: \n",
            "функция, система, пространство, вектор, матрица, оператор, уравнение, линейный, вид, случай, координата, называться, векторный, производный, formula_1\n",
            "topic_1: \n",
            "треугольник, угол, сторона, равный, система, теорема, длина, игра, единица, площадь, задача, окружность, игрок, координата, геометрия\n",
            "topic_2: \n",
            "система, решение, метод, управление, задача, модель, процесс, область, исследование, университет, обучение, анализ, сеть, цель, использовать\n",
            "topic_3: \n",
            "сигнал, система, частота, фильтр, изображение, значение, функция, использовать, использоваться, напряжение, метод, схема, входной, цифровой, код\n",
            "topic_4: \n",
            "система, использовать, функция, пользователь, блок, сеть, компания, код, версия, использование, позволять, использоваться, проект, транзакция, криптовалюта\n",
            "topic_5: \n",
            "группа, множество, элемент, formula_1, пространство, теорема, formula_2, называться, кольцо, formula_3, простой, случай, конечный, существовать, formula_4\n",
            "topic_6: \n",
            "буква, шифр, текст, использовать, использоваться, система, машина, символ, книга, язык, часть, участник, век, большой, сша\n",
            "topic_7: \n",
            "вероятность, значение, распределение, случайный, функция, модель, величина, метод, случай, оценка, параметр, средний, использовать, formula_1, равный\n",
            "topic_8: \n",
            "ключ, алгоритм, использовать, шифрование, атака, открытый, шифр, битый, протокол, использоваться, использование, функция, блок, текст, следующий\n",
            "topic_9: \n",
            "алгоритм, узел, последовательность, простой, элемент, значение, символ, строка, случай, использовать, следующий, поиск, дерево, длина, большой\n",
            "topic_10: \n",
            "функция, уравнение, значение, метод, решение, ряд, вид, последовательность, простой, formula_1, формула, матрица, formula_2, сумма, теорема\n",
            "topic_11: \n",
            "система, кривая, уравнение, прямая, координата, плоскость, окружность, симметрия, случай, движение, скорость, частица, сила, энергия, ося\n",
            "topic_12: \n",
            "граф, вершина, задача, ребро, множество, существовать, алгоритм, решение, цикл, плоскость, случай, многогранник, прямая, пространство, грань\n",
            "topic_13: \n",
            "теория, множество, математика, метод, математический, функция, система, гипотеза, пространство, квадрат, анализ, свойство, простой, проблема, некоторый\n"
          ],
          "name": "stdout"
        }
      ]
    },
    {
      "cell_type": "code",
      "metadata": {
        "id": "zp6dCmaQjmO_"
      },
      "source": [
        "F = model_artm.get_theta()\n",
        "F.to_csv(gDrivePath+f'/data/artm_theta.csv')"
      ],
      "execution_count": null,
      "outputs": []
    },
    {
      "cell_type": "markdown",
      "metadata": {
        "id": "7JameXoMNVFc"
      },
      "source": [
        "## Иерархическая"
      ]
    },
    {
      "cell_type": "code",
      "metadata": {
        "id": "ShYFlPRH3ref"
      },
      "source": [
        "hier = artm.hARTM(scores=[artm.PerplexityScore(name='PerplexityScore', dictionary=dictionary)],\n",
        "                  cache_theta=True, reuse_theta=True, theta_columns_naming='title')"
      ],
      "execution_count": null,
      "outputs": []
    },
    {
      "cell_type": "code",
      "metadata": {
        "id": "hVQzTUJodGiG",
        "colab": {
          "base_uri": "https://localhost:8080/",
          "height": 51
        },
        "outputId": "39aa2a5c-d652-411b-c52c-c8d5d8ab81e0"
      },
      "source": [
        "level0 = hier.add_level(num_topics=14)\n",
        "level0.initialize(dictionary)\n",
        "level0.regularizers.add(artm.DecorrelatorPhiRegularizer(name='DecorrelatorPhi0', tau=5e4))\n",
        "level0.regularizers.add(artm.SmoothSparseThetaRegularizer(name='SparseTheta', tau=-0.05))\n",
        "level0.regularizers.add(artm.SmoothSparsePhiRegularizer(name='SparsePhi', tau=-0.1))\n",
        "\n",
        "level0.scores.add(artm.SparsityPhiScore(name='SparsityPhiScore0', class_id='text', eps=1e-5))\n",
        "level0.scores.add(artm.SparsityThetaScore(name='SparsityThetaScore0', eps=1e-5))\n",
        "%time level0.fit_offline(batch_vectorizer=batch_vectorizer, num_collection_passes=10)"
      ],
      "execution_count": null,
      "outputs": [
        {
          "output_type": "stream",
          "text": [
            "CPU times: user 1min 5s, sys: 1.11 s, total: 1min 6s\n",
            "Wall time: 38.5 s\n"
          ],
          "name": "stdout"
        }
      ]
    },
    {
      "cell_type": "code",
      "metadata": {
        "id": "NrO95jm9cwKV",
        "colab": {
          "base_uri": "https://localhost:8080/",
          "height": 85
        },
        "outputId": "659806af-9965-4193-b982-14caf771e42a"
      },
      "source": [
        "print('level0')\n",
        "print('SparsityPhi: ', level0.score_tracker['SparsityPhiScore0'].last_value)\n",
        "print('SparsityTheta: ', level0.score_tracker['SparsityThetaScore0'].last_value)\n",
        "theta0 = level0.get_theta()\n",
        "print('Num zeros col in theta: ', sum([(theta0[i] == 0).all() for i in theta0.columns]))"
      ],
      "execution_count": null,
      "outputs": [
        {
          "output_type": "stream",
          "text": [
            "level0\n",
            "SparsityPhi:  0.9300758838653564\n",
            "SparsityTheta:  0.7351476550102234\n",
            "Num zeros col in theta:  0\n"
          ],
          "name": "stdout"
        }
      ]
    },
    {
      "cell_type": "code",
      "metadata": {
        "id": "GVi3G5sBdlFQ",
        "colab": {
          "base_uri": "https://localhost:8080/",
          "height": 51
        },
        "outputId": "0741dbc3-5542-4f63-879b-dc14eb999df3"
      },
      "source": [
        "%time level1 = hier.add_level(num_topics=50, topic_names=['child_topic_' + str(i) for i in range(50)], parent_level_weight=1)\n",
        "level1.scores.add(artm.SparsityPhiScore(name='SparsityPhiScore1', class_id='text', eps=1e-5))\n",
        "level1.scores.add(artm.SparsityThetaScore(name='SparsityThetaScore1', eps=1e-5))\n",
        "level1.scores.add(artm.TopTokensScore(name='TopTokensScore1', num_tokens=15, class_id='text'))\n",
        "level1.regularizers.add(artm.HierarchySparsingThetaRegularizer(name=\"HierSp\", tau=2),overwrite=True)\n",
        "level1.regularizers.add(artm.SmoothSparsePhiRegularizer(name='SparsePhi', tau=-0.1),overwrite=True)"
      ],
      "execution_count": null,
      "outputs": [
        {
          "output_type": "stream",
          "text": [
            "CPU times: user 7.39 s, sys: 426 ms, total: 7.81 s\n",
            "Wall time: 7.5 s\n"
          ],
          "name": "stdout"
        }
      ]
    },
    {
      "cell_type": "code",
      "metadata": {
        "id": "gpJIGbm9gNaX",
        "colab": {
          "base_uri": "https://localhost:8080/",
          "height": 51
        },
        "outputId": "21e95c32-5ada-4bc0-d8a9-6e9c073e8402"
      },
      "source": [
        "level1.initialize(dictionary)\n",
        "level1.regularizers.add(artm.SmoothSparseThetaRegularizer(name='SparseTheta', tau=-0.01),overwrite=True)\n",
        "level1.regularizers.add(artm.DecorrelatorPhiRegularizer(name='DecorrelatorPhi1', tau=15e4),overwrite=True)\n",
        "%time level1.fit_offline(batch_vectorizer=batch_vectorizer, num_collection_passes=10)"
      ],
      "execution_count": null,
      "outputs": [
        {
          "output_type": "stream",
          "text": [
            "CPU times: user 2min 3s, sys: 2.32 s, total: 2min 5s\n",
            "Wall time: 1min 15s\n"
          ],
          "name": "stdout"
        }
      ]
    },
    {
      "cell_type": "code",
      "metadata": {
        "id": "CBxBWR5_ZIqy",
        "colab": {
          "base_uri": "https://localhost:8080/",
          "height": 85
        },
        "outputId": "92150c0f-eb2e-496f-c90e-ba10557bac0d"
      },
      "source": [
        "print('level1')\n",
        "print('SparsityPhi: ', level1.score_tracker['SparsityPhiScore1'].last_value)\n",
        "print('SparsityTheta: ', level1.score_tracker['SparsityThetaScore1'].last_value)\n",
        "theta1 = level1.get_theta()\n",
        "print('Num zeros col in theta: ',sum([(theta1[i] == 0).all() for i in theta1.columns]))"
      ],
      "execution_count": null,
      "outputs": [
        {
          "output_type": "stream",
          "text": [
            "level1\n",
            "SparsityPhi:  0.945278525352478\n",
            "SparsityTheta:  0.870569109916687\n",
            "Num zeros col in theta:  0\n"
          ],
          "name": "stdout"
        }
      ]
    },
    {
      "cell_type": "code",
      "metadata": {
        "id": "ZF1ctJyRdfNV",
        "colab": {
          "base_uri": "https://localhost:8080/",
          "height": 1000
        },
        "outputId": "e6d3a060-3aaa-4bf6-b7ab-b73a54c4ffff"
      },
      "source": [
        "print_topic_top_words(level1, 'TopTokensScore1')"
      ],
      "execution_count": null,
      "outputs": [
        {
          "output_type": "stream",
          "text": [
            "child_topic_0: \n",
            "игра, игрок, теория, стратегия, модель, группа, равновесие, экономический, анализ, тип, экономика, решение, случай, выигрыш, сортировка\n",
            "child_topic_1: \n",
            "система, цифра, век, единица, использоваться, книга, буква, сторона, мера, угол, счисление, большой, треугольник, использовать, счёт\n",
            "child_topic_2: \n",
            "кривая, угол, кривизна, плоскость, сфера, поверхность, линия, расстояние, направление, прямая, геометрия, ося, длина, плоский, окружность\n",
            "child_topic_3: \n",
            "язык, правило, логический, тип, аксиома, логика, парадокс, множество, выражение, понятие, вывод, анализ, формальный, утверждение, отношение\n",
            "child_topic_4: \n",
            "шифр, машина, текст, буква, энигма, ротор, автомат, зашифровать, немецкий, криптография, шифровальный, шифрование, война, клеточный, использоваться\n",
            "child_topic_5: \n",
            "ставка, процентный, финансовый, анализ, оценка, риска, доходность, расчёт, показатель, риск, стоимость, уровень, денежный, процент, инструмент\n",
            "child_topic_6: \n",
            "элемент, formula_1, кольцо, простой, последовательность, formula_2, модуль, множество, называться, существовать, formula_3, группа, целое, алгоритм, поль\n",
            "child_topic_7: \n",
            "алгоритм, ключ, шифр, битый, шифрование, атака, использовать, блок, текст, функция, длина, значение, использоваться, открытый, следующий\n",
            "child_topic_8: \n",
            "операция, 128, память, таблица, исходный, состояние, умножение, сложение, строка, разный, обратный, фаза, модуль, процесс, процессор\n",
            "child_topic_9: \n",
            "функция, уравнение, решение, координата, вид, производный, система, дифференциальный, formula_1, условие, оператор, интеграл, случай, formula_4, formula_3\n",
            "child_topic_10: \n",
            "стоимость, кубик, денежный, затрата, инвестиция, проект, поток, компания, период, платёж, расход, головоломка, товар, продукт, доход\n",
            "child_topic_11: \n",
            "граф, задача, вершина, алгоритм, ребро, цикл, множество, поиск, дерево, решение, планарный, использовать, путь, случай, существовать\n",
            "child_topic_12: \n",
            "теория, теорема, алгебраический, многообразие, геометрия, алгебра, аксиома, пространство, дробь, рациональный, поверхность, математика, группа, множество, доказательство\n",
            "child_topic_13: \n",
            "система, пользователь, сеть, протокол, компания, транзакция, криптовалюта, поисковый, документ, использовать, технология, позволять, сервис, google, проект\n",
            "child_topic_14: \n",
            "сигнал, фильтр, изображение, код, использоваться, частота, устройство, цифровой, обработка, использовать, уровень, кодирование, шум, сжатие, входной\n",
            "child_topic_15: \n",
            "теорема, множество, доказательство, мера, доказать, гипотеза, formula_1, formula_2, утверждение, подмножество, существовать, граница, formula_3, случай, лемма\n",
            "child_topic_16: \n",
            "управление, режим, процесс, состояние, устройство, управлять, поток, соединение, счётчик, уровень, стандарт, пакет, объект, использоваться, блок\n",
            "child_topic_17: \n",
            "код, тест, простота, основание, псевдопростой, составной, риман, двоичный, простой, нуль, гипотеза, троичный, ферма, сильный, кодовый\n",
            "child_topic_18: \n",
            "вектор, пространство, уравнение, линейный, преобразование, система, тензор, базис, координата, произведение, векторный, скалярный, собственный, решение, задача\n",
            "child_topic_19: \n",
            "треугольник, окружность, угол, сторона, площадь, центр, радиус, координата, круг, равный, фигура, длина, формула, вращение, прямая\n",
            "child_topic_20: \n",
            "схема, протокол, задача, подпись, ключ, открытый, секрет, вычисление, криптосистема, секретный, сторона, алгоритм, сложность, участник, rsa\n",
            "child_topic_21: \n",
            "простой, множество, целое, конечный, гипотеза, теория, натуральный, доказать, класс, существовать, доказательство, вид, поль, сумма, рациональный\n",
            "child_topic_22: \n",
            "университет, сша, наука, война, институт, система, научный, профессор, математический, математика, книга, область, исследование, имя, американский\n",
            "child_topic_23: \n",
            "матрица, строка, следующий, алгоритм, случай, образ, значение, шаг, вид, найти, formula_33, formula_4, formula_17, formula_41, вычисление\n",
            "child_topic_24: \n",
            "карта, технология, проект, производительность, коллективный, умный, выпустить, компания, производство, использование, visual, разработка, город, продукт, организация\n",
            "child_topic_25: \n",
            "кипу, математический, нить, инк, mathcad, язык, моделирование, математика, объект, версия, digic, патентный, canon, устойчивость, исследование\n",
            "child_topic_26: \n",
            "ключ, использовать, пароль, шифрование, открытый, безопасность, использование, пользователь, подпись, сервер, использоваться, сертификат, атака, доступ, аутентификация\n",
            "child_topic_27: \n",
            "задача, решение, алгоритм, объект, предмет, оптимальный, поиск, кластер, найти, рекурсивный, оптимизация, хороший, количество, целевой, вид\n",
            "child_topic_28: \n",
            "протокол, система, программа, алиса, версия, файл, боб, использовать, позволять, возможность, язык, пакет, библиотека, программный, использоваться\n",
            "child_topic_29: \n",
            "самолёт, экипаж, катастрофа, рейс, высота, борт, полёт, пилот, скорость, диспетчер, аэропорт, сильный, километр, земля, ветер\n",
            "child_topic_30: \n",
            "последовательность, дробь, ряд, сумма, целое, цифра, деление, натуральный, член, вид, сложение, сходиться, десятичный, делиться, система\n",
            "child_topic_31: \n",
            "система, теория, поль, квантовый, частица, состояние, энергия, движение, скорость, сила, масса, пространство, закон, физический, тело\n",
            "child_topic_32: \n",
            "вероятность, распределение, случайный, модель, значение, величина, функция, средний, оценка, случай, выборка, параметр, событие, математический, использовать\n",
            "child_topic_33: \n",
            "прямая, плоскость, группа, граф, вершина, пространство, треугольник, многогранник, грань, симметрия, угол, ребро, правильный, равный, formula_1\n",
            "child_topic_34: \n",
            "пространство, множество, категория, отображение, объект, выпуклый, оператор, функтор, морфизм, топология, топологический, formula_1, называться, размерность, линейный\n",
            "child_topic_35: \n",
            "группа, матрица, элемент, порядок, подгруппа, алгебра, базис, отношение, линейный, называться, симметрия, представление, перестановка, formula_1, класс\n",
            "child_topic_36: \n",
            "функция, ряд, значение, переменный, признак, сумма, формула, таблица, квадрат, площадь, длина, следующий, порядок, равный, треугольник\n",
            "child_topic_37: \n",
            "формула, логарифм, степень, комплексный, тождество, коэффициент, равный, многочлен, значение, единица, выражение, соотношение, нуль, отрицательный, вещественный\n",
            "child_topic_38: \n",
            "частота, система, сигнал, ток, напряжение, постоянный, преобразование, электрический, скорость, амплитуда, отсчёт, колебание, сопротивление, фаза, цепь\n",
            "child_topic_39: \n",
            "век, современный, книга, математический, наука, метод, искусство, развитие, величина, астрономия, измерение, идея, основа, история, влияние\n",
            "child_topic_40: \n",
            "теорема, formula_2, кривая, formula_3, значение, неравенство, функция, formula_1, formula_4, formula_5, formula_6, равный, formula_8, formula_7, пространство\n",
            "child_topic_41: \n",
            "пространство, многообразие, векторный, formula_1, расслоение, отображение, метрика, гладкий, поль, formula_3, кривая, formula_2, метрический, евклидов, formula_4\n",
            "child_topic_42: \n",
            "узел, сеть, вершина, ребро, вложение, пересечение, граф, степень, зацепление, дерево, путь, программирование, книжный, решение, маршрут\n",
            "child_topic_43: \n",
            "многочлен, корень, метод, степень, ряд, коэффициент, комплексный, уравнение, формула, квадратный, решение, использовать, вещественный, узел, гильберт\n",
            "child_topic_44: \n",
            "система, интеллект, решение, управление, исследование, искусственный, знание, проблема, область, процесс, робот, задача, создание, теория, цель\n",
            "child_topic_45: \n",
            "символ, буква, алфавит, строка, позиция, язык, таблица, суффикс, ося, индекс, цифра, левый, правый, нэш, текст\n",
            "child_topic_46: \n",
            "игра, карта, игрок, ход, программа, стратегия, игровой, паспорт, играть, деньга, монета, доллар, агент, денежный, россия\n",
            "child_topic_47: \n",
            "метод, алгоритм, значение, вычисление, шаг, элемент, ошибка, случай, большой, последовательность, параметр, результат, необходимый, следующий, случайный\n",
            "child_topic_48: \n",
            "цена, рынок, участник, индикатор, период, индекс, агент, портфель, делёж, торт, кусок, оценка, средний, значение, скользящий\n",
            "child_topic_49: \n",
            "изображение, проекция, dolby, пиксель, линия, формат, чёрный, размер, цвет, искажение, масштаб, печать, карта, план, граница\n"
          ],
          "name": "stdout"
        }
      ]
    },
    {
      "cell_type": "code",
      "metadata": {
        "id": "ntubjMbxHSXh"
      },
      "source": [
        "theta0.to_csv(gDrivePath+'/data/hier_theta_0.csv')\n",
        "theta1.to_csv(gDrivePath+'/data/hier_theta_1.csv')\n",
        "psi = level1.get_psi()\n",
        "psi.to_csv(gDrivePath+'/data/hier_psi_1.csv')"
      ],
      "execution_count": null,
      "outputs": []
    },
    {
      "cell_type": "code",
      "metadata": {
        "id": "cu5miS8afnV4"
      },
      "source": [
        "with open(gDrivePath+'/data/phi1.batch', 'w') as f:\n",
        "    f.write('phi1.batch')"
      ],
      "execution_count": null,
      "outputs": []
    },
    {
      "cell_type": "markdown",
      "metadata": {
        "id": "HROJlHpD5qh_"
      },
      "source": [
        "# Считаем метрику"
      ]
    },
    {
      "cell_type": "code",
      "metadata": {
        "id": "VVaqKTX45_lh",
        "colab": {
          "base_uri": "https://localhost:8080/",
          "height": 34
        },
        "outputId": "ac062559-01a3-47aa-8678-8f9b97af5330"
      },
      "source": [
        "ngramm = pd.read_csv(gDrivePath + '/data/wiki_ngrammed.csv' )#, usecols=[0,2])\n",
        "ngramm.rename(dict(zip(ngramm.columns, ['N', 'Text', 'N_gr'])), axis=1, inplace=True)\n",
        "articles = pickle.load(open(gDrivePath+'data/needed_articles-2.bin', 'rb'))\n",
        "articles = list(articles)\n",
        "bol = [(elem[1] not in ngramm[ngramm['N_gr'].isna()].N.values) for elem in articles] #and (str(elem[1]) not in del_a)\n",
        "articles = np.array(articles)\n",
        "articles = list(articles[bol])\n",
        "print(len(articles))"
      ],
      "execution_count": null,
      "outputs": [
        {
          "output_type": "stream",
          "text": [
            "425\n"
          ],
          "name": "stdout"
        }
      ]
    },
    {
      "cell_type": "code",
      "metadata": {
        "id": "L5QyEqXY6Adc"
      },
      "source": [
        "class AdjacencyMatrix:\n",
        "    \n",
        "    def __init__(self, tree):\n",
        "        self.tree = tree\n",
        "        self.vertex_ids = list(tree.keys())\n",
        "        self.num_vertexes = len(tree)\n",
        "        self.adj = {}\n",
        "        self.mapping = {}\n",
        "        \n",
        "        self._build_mapping()\n",
        "        self._bfs()\n",
        "        \n",
        "    def _bfs(self):\n",
        "        for vertex in self.vertex_ids:\n",
        "            queue = deque()\n",
        "            used = set()\n",
        "            queue.append((vertex, 0))\n",
        "            while len(queue) > 0:\n",
        "                v, dist = queue.popleft()\n",
        "                self.adj[(vertex, v)] = dist\n",
        "                \n",
        "                used.add(v)\n",
        "                desc = self.tree[v]\n",
        "                \n",
        "                for u in desc:\n",
        "                    if u not in used and u[0] in self.tree:\n",
        "                        queue.append((u[0], dist + 1))\n",
        "                        \n",
        "    def _build_mapping(self):\n",
        "        for vertex in self.vertex_ids:\n",
        "            desc = self.tree[vertex]\n",
        "            for u in desc:\n",
        "                for doc in u:\n",
        "                    self.mapping[doc] = u[0]\n",
        "            \n",
        "    \n",
        "    def get(self, doc1, doc2):\n",
        "        vertex1 = self.mapping[doc1]\n",
        "        vertex2 = self.mapping[doc2]\n",
        "        if ((vertex1, vertex2) not in self.adj) or (self.adj[(vertex1, vertex2)] == 0):\n",
        "            return 0\n",
        "        return 1 / self.adj[(vertex1, vertex2)]"
      ],
      "execution_count": null,
      "outputs": []
    },
    {
      "cell_type": "markdown",
      "metadata": {
        "id": "hyGqf0lIPYQW"
      },
      "source": [
        "## Обрабатываем википедийные деревья"
      ]
    },
    {
      "cell_type": "code",
      "metadata": {
        "id": "ZSUf-4NQbgSM"
      },
      "source": [
        "with open(gDrivePath + '/data/validation.bin', 'rb') as f:\n",
        "    trees = pickle.load(f)"
      ],
      "execution_count": null,
      "outputs": []
    },
    {
      "cell_type": "code",
      "metadata": {
        "id": "lQee8EYUV5tP",
        "colab": {
          "base_uri": "https://localhost:8080/",
          "height": 34
        },
        "outputId": "a2686fbe-93be-4bf2-c3d2-93081365cf0a"
      },
      "source": [
        "[len(tree) for tree in trees]"
      ],
      "execution_count": null,
      "outputs": [
        {
          "output_type": "execute_result",
          "data": {
            "text/plain": [
              "[590, 34]"
            ]
          },
          "metadata": {
            "tags": []
          },
          "execution_count": 89
        }
      ]
    },
    {
      "cell_type": "code",
      "metadata": {
        "id": "3sIpD9s9-VKY"
      },
      "source": [
        "def convert(new_tree, tree, pred):\n",
        "    S = tuple(str(elem[1]) for elem in tree[pred]['articles'])\n",
        "    if len(S) != 0:\n",
        "        res = [convert(new_tree, tree, child[0]) for child in tree[pred]['categories']]\n",
        "        if len(res) != 0:\n",
        "            new_tree[str(S[0])] = res\n",
        "    return S"
      ],
      "execution_count": null,
      "outputs": []
    },
    {
      "cell_type": "code",
      "metadata": {
        "id": "Swix1Xj1V7lP"
      },
      "source": [
        "l = 1\n",
        "wiki = {}\n",
        "wiki[0] = [convert(wiki, trees[l], [*(trees[l].keys())][0])]"
      ],
      "execution_count": null,
      "outputs": []
    },
    {
      "cell_type": "code",
      "metadata": {
        "id": "jg1eZ93J6YsE",
        "colab": {
          "base_uri": "https://localhost:8080/",
          "height": 34
        },
        "outputId": "159162e3-c782-4738-c806-33f4eb41bee5"
      },
      "source": [
        "matrix_wiki = AdjacencyMatrix(wiki)\n",
        "mx_wiki = np.zeros((len(articles), len(articles)))\n",
        "for i in tqdm(range(len(articles))):\n",
        "    for j in range(len(articles)):\n",
        "        doc1 = str(articles[i][1])\n",
        "        doc2 = str(articles[j][1])\n",
        "        mx_wiki[i, j] = matrix_wiki.get(doc1, doc2)"
      ],
      "execution_count": null,
      "outputs": [
        {
          "output_type": "stream",
          "text": [
            "100%|██████████| 425/425 [00:00<00:00, 1267.54it/s]\n"
          ],
          "name": "stderr"
        }
      ]
    },
    {
      "cell_type": "code",
      "metadata": {
        "id": "IXSDmWDz98yc"
      },
      "source": [
        "with open(gDrivePath + 'data/mx_wiki.pickle', 'wb') as f:\n",
        "    pickle.dump(mx_wiki, f)"
      ],
      "execution_count": null,
      "outputs": []
    },
    {
      "cell_type": "markdown",
      "metadata": {
        "id": "mbJt18zpn2dX"
      },
      "source": [
        "## Считаем метрику"
      ]
    },
    {
      "cell_type": "code",
      "metadata": {
        "id": "R6IeYMCB7CXy"
      },
      "source": [
        "def metric(graph):\n",
        "    matrix = AdjacencyMatrix(graph)\n",
        "    mx = np.zeros((len(articles), len(articles)))\n",
        "    for i in range(len(articles)):\n",
        "        for j in range(len(articles)):\n",
        "            doc1 = str(articles[i][1])\n",
        "            doc2 = str(articles[j][1])\n",
        "            mx[i, j] = matrix.get(doc1, doc2)\n",
        "    return np.sum(np.square(mx - mx_wiki))#/(len(mx)**2)"
      ],
      "execution_count": null,
      "outputs": []
    },
    {
      "cell_type": "code",
      "metadata": {
        "id": "ulIo6yyy-NgH"
      },
      "source": [
        "with open(gDrivePath + 'data/mx_wiki.pickle', 'rb') as f:\n",
        "    mx_wiki = pickle.load(f)\n",
        "# names = ['artm_bm_t0_k0_n1.pickle']\n",
        "# for name in names:\n",
        "#     print(name, metric(pickle.load(open(gDrivePath+'/res/'+name, 'rb'))))"
      ],
      "execution_count": null,
      "outputs": []
    },
    {
      "cell_type": "code",
      "metadata": {
        "id": "-bN5p9fU-Yw2",
        "colab": {
          "base_uri": "https://localhost:8080/",
          "height": 34
        },
        "outputId": "cc64445c-894c-4a6d-88bb-4e87405f41ae"
      },
      "source": [
        "metric(graph)"
      ],
      "execution_count": null,
      "outputs": [
        {
          "output_type": "execute_result",
          "data": {
            "text/plain": [
              "31.600040582591795"
            ]
          },
          "metadata": {
            "tags": []
          },
          "execution_count": 26
        }
      ]
    },
    {
      "cell_type": "markdown",
      "metadata": {
        "id": "P88noqYP7Ywc"
      },
      "source": [
        "# Строим граф"
      ]
    },
    {
      "cell_type": "markdown",
      "metadata": {
        "id": "EtlTr4Ix9QYE"
      },
      "source": [
        "τ , which defines the minimum overlap between two equivalent documents, and κ, which defines the maximum difference of their generality scores"
      ]
    },
    {
      "cell_type": "code",
      "metadata": {
        "id": "B0F96U7aHFR_"
      },
      "source": [
        "def g(i):\n",
        "    return - np.sum(F[i] * np.log(F[i]))\n",
        "\n",
        "def o(i, j):\n",
        "    if (i, j) in O.keys():\n",
        "        return O[(i, j)]\n",
        "    elif (j, i) in O.keys():\n",
        "        return O[(j, i)]\n",
        "    else:\n",
        "        O[(i, j)] = F[i]@F[j] / (F[i]@F[i]+F[j]@F[j]-F[i]@F[j])\n",
        "        return O[(i, j)]"
      ],
      "execution_count": null,
      "outputs": []
    },
    {
      "cell_type": "code",
      "metadata": {
        "id": "QbsNh1lFFQ2b"
      },
      "source": [
        "def DynOrder(D_f, pred_f, graph, t_f, k_f):\n",
        "    gq = deque([(D_f, pred_f, t_f, k_f)])\n",
        "    while len(gq)>0:\n",
        "        D, pred, t, k = gq.popleft()\n",
        "        if pred not in graph.keys():\n",
        "            graph[pred] = []\n",
        "        while len(D) > 0:\n",
        "            d = D.pop()\n",
        "            S = {d[0]}\n",
        "            if len(D) != 0:\n",
        "                i = -1\n",
        "                d_j = D[i]\n",
        "                while (o(d[0], d_j[0]) > t) and (d[1] < d_j[1] + k):\n",
        "                    to_add = True\n",
        "                    for d_i in S:\n",
        "                        to_add &= (o(d_i, d_j[0]) > t)\n",
        "                        if not to_add:\n",
        "                            break\n",
        "                    if to_add:\n",
        "                        S.add(d_j[0])\n",
        "                        D.pop(i)\n",
        "                        i += 1\n",
        "                    i -= 1\n",
        "                    if(-i <= len(D)):\n",
        "                        d_j = D[i]\n",
        "                    else:\n",
        "                        break\n",
        "\n",
        "            S = tuple(S)\n",
        "            graph[pred].append(S)\n",
        "\n",
        "            C = []\n",
        "            temp = []\n",
        "            for d_j in D:\n",
        "                if o(d[0], d_j[0])>0:\n",
        "                    added = False\n",
        "                    for clas in C:  # Ищем в какой из уже имеющихся классов добавить\n",
        "                        to_add = True\n",
        "                        for elem in clas:\n",
        "                            to_add &= (o(elem[0], d_j[0])>0)\n",
        "                        if to_add:\n",
        "                            added = True\n",
        "                            clas.append(d_j)\n",
        "                            break\n",
        "                    if not added:  # Если не нашли подходящий, то создаём новый\n",
        "                        C.append([d_j])\n",
        "                else:\n",
        "                    temp.append(d_j)\n",
        "            #print(len(C))\n",
        "            for clas in C:\n",
        "                clas.sort(key=lambda kv: kv[1])\n",
        "                gq.append((clas, S[0], t/n, k))\n",
        "\n",
        "            D = temp\n",
        "    return graph"
      ],
      "execution_count": null,
      "outputs": []
    },
    {
      "cell_type": "code",
      "metadata": {
        "id": "BK18MG2e9jcI",
        "colab": {
          "base_uri": "https://localhost:8080/",
          "height": 85
        },
        "outputId": "c89b7f65-56cd-416d-fc66-1546174ceaa0"
      },
      "source": [
        "l = 2\n",
        "df = pd.read_csv(gDrivePath + f'/data/articles_{l}.csv', index_col=0)\n",
        "# del_a = set(['7854596', '7696245', '7676738', '7861737', '7737521', '7115595', '7678381', '7739131', '7692453', '7853691', '5591339', '7493499', '7695785', '7503523', '7735746'])\n",
        "F = pd.read_csv( gDrivePath+'/data/plsa_theta.csv', index_col=0)\n",
        "F = F[set(df['N'].values.astype(str))]#.difference(del_a)]\n",
        "print(F.shape)\n",
        "h_i = sorted([(i, g(i)) for i in F.columns], key=lambda kv: kv[1])\n",
        "print(h_i[0], h_i[-1])"
      ],
      "execution_count": null,
      "outputs": [
        {
          "output_type": "stream",
          "text": [
            "(14, 425)\n",
            "('3629547', -0.0) ('3958657', 2.005014787262185)\n"
          ],
          "name": "stdout"
        },
        {
          "output_type": "stream",
          "text": [
            "/usr/local/lib/python3.6/dist-packages/pandas/core/series.py:679: RuntimeWarning: divide by zero encountered in log\n",
            "  result = getattr(ufunc, method)(*inputs, **kwargs)\n"
          ],
          "name": "stderr"
        }
      ]
    },
    {
      "cell_type": "markdown",
      "metadata": {
        "id": "5JlI1voafK0O"
      },
      "source": [
        "Построение графа"
      ]
    },
    {
      "cell_type": "code",
      "metadata": {
        "id": "uL13lZyr7FXr",
        "colab": {
          "base_uri": "https://localhost:8080/",
          "height": 68
        },
        "outputId": "bf1ebb35-f8e4-4084-aaa9-ff503aa771df"
      },
      "source": [
        "O = {(0,0):0}\n",
        "t = 0\n",
        "k = 0\n",
        "n = 1 \n",
        "g_i = h_i.copy()\n",
        "%time graph = DynOrder(g_i, 0, {}, t, k)\n",
        "print(metric(graph))"
      ],
      "execution_count": null,
      "outputs": [
        {
          "output_type": "stream",
          "text": [
            "CPU times: user 12.1 s, sys: 58.3 ms, total: 12.1 s\n",
            "Wall time: 12.1 s\n",
            "13395.88239128129\n"
          ],
          "name": "stdout"
        }
      ]
    },
    {
      "cell_type": "markdown",
      "metadata": {
        "id": "-4Ctn6m1fTLN"
      },
      "source": [
        "Подбор параметров"
      ]
    },
    {
      "cell_type": "code",
      "metadata": {
        "id": "AkhPyfz8CSs2",
        "colab": {
          "base_uri": "https://localhost:8080/",
          "height": 187
        },
        "outputId": "3ffe4005-d87e-4cc5-cedb-6fa4342bac0d"
      },
      "source": [
        "O = {(0,0):0}\n",
        "graph = {}\n",
        "for k in np.arange(0, 1, 0.1):\n",
        "    g_i = h_i.copy()\n",
        "    graph = DynOrder(g_i, 0, {}, t, k)\n",
        "    print(k, metric(graph))"
      ],
      "execution_count": null,
      "outputs": [
        {
          "output_type": "stream",
          "text": [
            "0.0 31.514641732740582\n",
            "0.1 48.41053849752772\n",
            "0.2 62.57105040682939\n",
            "0.30000000000000004 72.90149999999998\n",
            "0.4 77.29156862745099\n",
            "0.5 79.05764705882353\n",
            "0.6000000000000001 91.93431372549018\n",
            "0.7000000000000001 99.65960784313724\n",
            "0.8 84.56176470588235\n",
            "0.9 92.21588235294118\n"
          ],
          "name": "stdout"
        }
      ]
    },
    {
      "cell_type": "markdown",
      "metadata": {
        "id": "F27NWLg-T23g"
      },
      "source": [
        "Строим всем скопом"
      ]
    },
    {
      "cell_type": "code",
      "metadata": {
        "id": "5PWAePcQT1v4",
        "colab": {
          "base_uri": "https://localhost:8080/",
          "height": 527
        },
        "outputId": "d6f1b74f-5751-4068-8ced-ef0d37d7db72"
      },
      "source": [
        "l = 2\n",
        "t = 0\n",
        "k = 0\n",
        "n = 1\n",
        "df = pd.read_csv(gDrivePath + f'/data/articles_{l}.csv', index_col=0)\n",
        "del_a = set(['7854596', '7696245', '7676738', '7861737', '7737521', '7115595', '7678381', '7739131', '7692453', '7853691', '5591339', '7493499', '7695785', '7503523', '7735746'])\n",
        "names = ['artm_bm_theta', 'artm_theta', 'hier_bm_theta_1', 'plsa_theta', 'lda_theta', 'hier_theta_1']\n",
        "for name in names:\n",
        "    F = pd.read_csv( gDrivePath+f'/data/{name}.csv', index_col=0)\n",
        "    F = F[set(df['N'].values.astype(str)).difference(del_a)]\n",
        "    g_i = sorted([(i, g(i)) for i in F.columns], key=lambda kv: kv[1])\n",
        "    O = {(0,0):0}\n",
        "    %time graph = DynOrder(g_i, 0, {}, t, k)\n",
        "    print(name, metric(graph))"
      ],
      "execution_count": null,
      "outputs": [
        {
          "output_type": "stream",
          "text": [
            "/usr/local/lib/python3.6/dist-packages/pandas/core/series.py:679: RuntimeWarning: divide by zero encountered in log\n",
            "  result = getattr(ufunc, method)(*inputs, **kwargs)\n"
          ],
          "name": "stderr"
        },
        {
          "output_type": "stream",
          "text": [
            "CPU times: user 5.99 s, sys: 111 ms, total: 6.1 s\n",
            "Wall time: 5.98 s\n",
            "artm_bm_theta 13440.603999951743\n"
          ],
          "name": "stdout"
        },
        {
          "output_type": "stream",
          "text": [
            "/usr/local/lib/python3.6/dist-packages/pandas/core/series.py:679: RuntimeWarning: divide by zero encountered in log\n",
            "  result = getattr(ufunc, method)(*inputs, **kwargs)\n"
          ],
          "name": "stderr"
        },
        {
          "output_type": "stream",
          "text": [
            "CPU times: user 7.39 s, sys: 127 ms, total: 7.52 s\n",
            "Wall time: 7.35 s\n",
            "artm_theta 13414.555913914717\n"
          ],
          "name": "stdout"
        },
        {
          "output_type": "stream",
          "text": [
            "/usr/local/lib/python3.6/dist-packages/pandas/core/series.py:679: RuntimeWarning: divide by zero encountered in log\n",
            "  result = getattr(ufunc, method)(*inputs, **kwargs)\n"
          ],
          "name": "stderr"
        },
        {
          "output_type": "stream",
          "text": [
            "CPU times: user 5.06 s, sys: 85.2 ms, total: 5.14 s\n",
            "Wall time: 5.04 s\n",
            "hier_bm_theta_1 13447.500361287914\n"
          ],
          "name": "stdout"
        },
        {
          "output_type": "stream",
          "text": [
            "/usr/local/lib/python3.6/dist-packages/pandas/core/series.py:679: RuntimeWarning: divide by zero encountered in log\n",
            "  result = getattr(ufunc, method)(*inputs, **kwargs)\n"
          ],
          "name": "stderr"
        },
        {
          "output_type": "stream",
          "text": [
            "CPU times: user 9.79 s, sys: 110 ms, total: 9.9 s\n",
            "Wall time: 9.77 s\n",
            "plsa_theta 13395.548717843572\n"
          ],
          "name": "stdout"
        },
        {
          "output_type": "stream",
          "text": [
            "/usr/local/lib/python3.6/dist-packages/pandas/core/series.py:679: RuntimeWarning: divide by zero encountered in log\n",
            "  result = getattr(ufunc, method)(*inputs, **kwargs)\n"
          ],
          "name": "stderr"
        },
        {
          "output_type": "stream",
          "text": [
            "CPU times: user 6.9 s, sys: 136 ms, total: 7.04 s\n",
            "Wall time: 6.84 s\n",
            "lda_theta 13426.40100186185\n"
          ],
          "name": "stdout"
        },
        {
          "output_type": "stream",
          "text": [
            "/usr/local/lib/python3.6/dist-packages/pandas/core/series.py:679: RuntimeWarning: divide by zero encountered in log\n",
            "  result = getattr(ufunc, method)(*inputs, **kwargs)\n"
          ],
          "name": "stderr"
        },
        {
          "output_type": "stream",
          "text": [
            "CPU times: user 7.48 s, sys: 62.3 ms, total: 7.54 s\n",
            "Wall time: 7.47 s\n",
            "hier_theta_1 13393.179245656018\n"
          ],
          "name": "stdout"
        }
      ]
    },
    {
      "cell_type": "code",
      "metadata": {
        "id": "8ownN1Q2dCiq"
      },
      "source": [
        "with open(gDrivePath + f'res/artm_bm_t{t}_k{k}_n{n}.pickle', 'wb') as f:\n",
        "    pickle.dump(graph, f)"
      ],
      "execution_count": null,
      "outputs": []
    },
    {
      "cell_type": "code",
      "metadata": {
        "id": "CU_6o9-I0v0X"
      },
      "source": [
        "# PLSA  13393.722736414744 15.2 s\n",
        "# t = 0 # любое\n",
        "# k = 0 # любое\n",
        "# n = 1 # любое\n",
        "\n",
        "# HIER  13430.070019725119 9.29 s\n",
        "# t = 0 #любой\n",
        "# k = 0\n",
        "# n = 1 # любой\n",
        "\n",
        "# ARTM  13457.444557724573 7.24 s\n",
        "# t = 0 # и более\n",
        "# k = 0 # любое\n",
        "# n = 1 # и меньше\n",
        "\n",
        "# HIER with h_entrop  13458.697120906132  6.8 s\n",
        "# t = 0.1 #любое\n",
        "# k = 0\n",
        "# n = 1 #любое\n",
        "\n",
        "# LDA   13468.027721856224 7.33 s\n",
        "# t = 0 # любое\n",
        "# k = 0 # любое\n",
        "# n = 1 # или меньше(но по времени лучше)"
      ],
      "execution_count": null,
      "outputs": []
    },
    {
      "cell_type": "markdown",
      "metadata": {
        "id": "YwFi_UXP1bhi"
      },
      "source": [
        "# Строим граф с иерархической энтропией"
      ]
    },
    {
      "cell_type": "code",
      "metadata": {
        "id": "PE_JCNKG1ipv",
        "colab": {
          "base_uri": "https://localhost:8080/",
          "height": 34
        },
        "outputId": "ce0e2c1c-b4b3-4e03-e718-585b4d6fab82"
      },
      "source": [
        "theta0 = pd.read_csv(gDrivePath+'/data/hier_theta_0.csv', index_col=0)\n",
        "theta1 = pd.read_csv(gDrivePath+'/data/hier_theta_1.csv', index_col=0)\n",
        "psi = pd.read_csv(gDrivePath+'/data/hier_psi_1.csv', index_col=0)\n",
        "\n",
        "l = 2\n",
        "df = pd.read_csv(gDrivePath + f'/data/articles_{l}.csv', index_col=0)\n",
        "del_a = set([])\n",
        "#del_a = set(['7854596', '7696245', '7676738', '7861737', '7737521', '7115595', '7678381', '7739131', '7692453', '7853691', '5591339', '7493499', '7695785', '7503523', '7735746'])\n",
        "theta0 = theta0[set(df['N'].values.astype(str)).difference(del_a)]\n",
        "theta1 = theta1[set(df['N'].values.astype(str)).difference(del_a)]\n",
        "print(theta0.shape)"
      ],
      "execution_count": null,
      "outputs": [
        {
          "output_type": "stream",
          "text": [
            "(14, 425)\n"
          ],
          "name": "stdout"
        }
      ]
    },
    {
      "cell_type": "code",
      "metadata": {
        "id": "k6frAdvyymJ9"
      },
      "source": [
        "def g(i): #hierarchcal_enthropy\n",
        "    enthropy_embedding = -theta1[i] * np.log(theta1[i] + 1e-10)\n",
        "    conv_matrix = (psi.T * enthropy_embedding).T\n",
        "    conv = np.sum(conv_matrix, axis=0)\n",
        "    return np.sum(conv * theta0[i])\n",
        "\n",
        "O = {(0,0):0}\n",
        "def o(i, j):\n",
        "    if (i, j) in O.keys():\n",
        "        return O[(i, j)]\n",
        "    elif (j, i) in O.keys():\n",
        "        return O[(j, i)]\n",
        "    else:\n",
        "        O[(i, j)] = theta1[i]@theta1[j] / (theta1[i]@theta1[i]+theta1[j]@theta1[j]-theta1[i]@theta1[j])\n",
        "        return O[(i, j)]"
      ],
      "execution_count": null,
      "outputs": []
    },
    {
      "cell_type": "code",
      "metadata": {
        "id": "NxccJ2QQ1LEz",
        "colab": {
          "base_uri": "https://localhost:8080/",
          "height": 34
        },
        "outputId": "20f4ed70-f7f9-46f0-9941-354de9d16bf9"
      },
      "source": [
        "h_i = sorted([(i, g(i)) for i in theta0.columns], key=lambda kv: kv[1])\n",
        "print(h_i[0], h_i[-1], len(h_i))"
      ],
      "execution_count": null,
      "outputs": [
        {
          "output_type": "stream",
          "text": [
            "('7028733', 3.036525849823727e-10) ('3663070', 0.31373792837368625) 425\n"
          ],
          "name": "stdout"
        }
      ]
    },
    {
      "cell_type": "code",
      "metadata": {
        "id": "3QfZWt3cwNP9",
        "colab": {
          "base_uri": "https://localhost:8080/",
          "height": 265
        },
        "outputId": "f7a4fa01-86b7-4d9d-a594-ee58828c8099"
      },
      "source": [
        "plt.plot(np.arange(0, 9503, 1), [elem[1] for elem in h_i])\n",
        "plt.grid(True)"
      ],
      "execution_count": null,
      "outputs": [
        {
          "output_type": "display_data",
          "data": {
            "image/png": "[encoded data removed]",
            "text/plain": [
              "<Figure size 432x288 with 1 Axes>"
            ]
          },
          "metadata": {
            "tags": []
          }
        }
      ]
    },
    {
      "cell_type": "code",
      "metadata": {
        "id": "mC3WlTL2CPhJ"
      },
      "source": [
        "O = {(0,0):0}\n",
        "t = 1 #любое\n",
        "k = 0\n",
        "n = 1 #любое\n",
        "g_i = h_i.copy()\n",
        "%time graph = DynOrder(g_i, 0, {}, t, k)\n",
        "print(metric(graph))"
      ],
      "execution_count": null,
      "outputs": []
    },
    {
      "cell_type": "code",
      "metadata": {
        "id": "SdKI802b2pjI",
        "colab": {
          "base_uri": "https://localhost:8080/",
          "height": 204
        },
        "outputId": "8de57031-5475-441b-f73b-8d00cc3bbc99"
      },
      "source": [
        "O = {(0,0):0}\n",
        "for n in np.arange(0, 10, 1):\n",
        "    g_i = h_i.copy()\n",
        "    graph = DynOrder(g_i, 0, {}, t, k)\n",
        "    print(t, metric(graph))"
      ],
      "execution_count": null,
      "outputs": [
        {
          "output_type": "stream",
          "text": [
            "/usr/local/lib/python3.6/dist-packages/ipykernel_launcher.py:52: RuntimeWarning: divide by zero encountered in long_scalars\n"
          ],
          "name": "stderr"
        },
        {
          "output_type": "stream",
          "text": [
            "1 13479.667582768123\n",
            "1 13479.667582768123\n",
            "1 13479.667582768123\n",
            "1 13479.667582768123\n",
            "1 13479.667582768123\n",
            "1 13479.667582768123\n",
            "1 13479.667582768123\n",
            "1 13479.667582768123\n",
            "1 13479.667582768123\n",
            "1 13479.667582768123\n"
          ],
          "name": "stdout"
        }
      ]
    },
    {
      "cell_type": "code",
      "metadata": {
        "id": "r9cn9AyxiTgZ"
      },
      "source": [
        "with open(gDrivePath + f'res/1_hier_bm_hentrop_t{t}_k{k}_n{n}.pickle', 'wb') as f:\n",
        "    pickle.dump(graph, f)"
      ],
      "execution_count": null,
      "outputs": []
    },
    {
      "cell_type": "markdown",
      "metadata": {
        "id": "lY4QgGddM5va"
      },
      "source": [
        "# Рисуем граф"
      ]
    },
    {
      "cell_type": "code",
      "metadata": {
        "id": "MDD2EAdRTTHZ"
      },
      "source": [
        "df = pd.read_csv(gDrivePath + f'/data/articles_{l}.csv', index_col=0)"
      ],
      "execution_count": null,
      "outputs": []
    },
    {
      "cell_type": "code",
      "metadata": {
        "id": "WQ8MSiVA6Xd2"
      },
      "source": [
        "def dfs(nod, graph):\n",
        "    q = deque([nod])\n",
        "    while len(q)>0:\n",
        "        node = q.popleft()\n",
        "        s = ''\n",
        "        for elem in node:\n",
        "            s += df[df['N'] == int(elem)].Name.values[0]+'\\n'\n",
        "        sgr[1] += f'{node[0]} [label = \"{s}\"];'\n",
        "        if node[0] in graph.keys():\n",
        "            for child in graph[node[0]]:\n",
        "                q.append(child)\n",
        "                if len(child)== 0:\n",
        "                    print(node[0])\n",
        "                sgr[2] += f'{node[0]} -> {child[0]}; '"
      ],
      "execution_count": null,
      "outputs": []
    },
    {
      "cell_type": "code",
      "metadata": {
        "id": "AxucrJhtJR9T",
        "colab": {
          "base_uri": "https://localhost:8080/",
          "height": 34
        },
        "outputId": "29df960d-3082-4f71-a2ee-f3901f62ccb2"
      },
      "source": [
        "res = ['digraph {node [shape=box]; ', '', '', '};']\n",
        "for i in range(len(graph[0])):\n",
        "    sgr = ['digraph {node [shape=box]; ', '', '', '};']\n",
        "    dfs(graph[0][i], graph)\n",
        "    res[1] += sgr[1]\n",
        "    res[2] += sgr[2]\n",
        "draw_gr = pydotplus.graph_from_dot_data(res[0]+res[1]+res[2]+res[3])\n",
        "#IPython.display.display(IPython.display.Image(draw_gr.create_png()))\n",
        "draw_gr.write_pdf('/content/drive/My Drive/M1P/small_plsa.pdf')"
      ],
      "execution_count": null,
      "outputs": [
        {
          "output_type": "execute_result",
          "data": {
            "text/plain": [
              "True"
            ]
          },
          "metadata": {
            "tags": []
          },
          "execution_count": 11
        }
      ]
    },
    {
      "cell_type": "markdown",
      "metadata": {
        "id": "14OAj_Efsj6v"
      },
      "source": [
        "# Результат"
      ]
    },
    {
      "cell_type": "markdown",
      "metadata": {
        "id": "EkL5nk4elZYh"
      },
      "source": [
        "hier_t0.01_k5_n2.pickle$\\hspace{12mm}$801627.4967822686$\\hspace{5mm}$21 min\n",
        "\n",
        "hier_t0.01_k0.03_n1.5.pickle$\\hspace{3mm}$785630.1767804039$\\hspace{5mm}$31 min\n",
        "\n",
        "plsa_t1_k0.3_n1.3.pickle$\\hspace{10mm}$486274.1168592022$\\hspace{5mm}$12 min\n",
        "\n",
        "1_hier_bm_hentrop_t0.1_k0_n1.pickle$\\hspace{1mm}$318679.7826782907$\\hspace{5mm}$24min\n",
        "\n",
        "-------------------------------------------------------\n",
        "\n",
        "artm_t0_k0_n1.pickle$\\hspace{30mm}$319071.23070007237$\\hspace{5mm}$2h 28min\n",
        "\n",
        "lda_t1_k0_n1.pickle$\\hspace{33mm}$319034.6183065148$\\hspace{7mm}$2h 28min\n",
        "\n",
        "hier_t0_k0_n1.pickle$\\hspace{32mm}$318899.3423647155$\\hspace{7mm}$1h 8min\n",
        "\n",
        "hier_hentrop_t0.1_k0_n1.pickle$\\hspace{12mm}$318566.68808036606$\\hspace{5mm}$38 min\n",
        "\n",
        "plsa $\\hspace{59mm}$ оценочно 317000 за $3*10^8$ min"
      ]
    },
    {
      "cell_type": "markdown",
      "metadata": {
        "id": "p3aOF3h9VF3h"
      },
      "source": [
        "# Визуализация результатов"
      ]
    },
    {
      "cell_type": "code",
      "metadata": {
        "id": "WCcDy_vLVLQ8"
      },
      "source": [
        "def plot_embeddings(M_reduced, word2Ind, words):\n",
        "    plt.ylabel('Execution time (min)', fontsize=12)\n",
        "    plt.xlabel('Score', fontsize=12)\n",
        "    # plt.xlim((0.07965, 0.08031))\n",
        "    plt.xlim((0.0035311, 0.0035334))\n",
        "    plt.grid(True)\n",
        "    for w in words:\n",
        "        x, y = M_reduced[word2Ind[w]]\n",
        "        plt.scatter(x, y, color='red')\n",
        "        plt.text(x, y, ' '+w, fontsize=10)\n",
        "    plt.show()"
      ],
      "execution_count": null,
      "outputs": []
    },
    {
      "cell_type": "code",
      "metadata": {
        "id": "IL48D83bSC9_"
      },
      "source": [
        "labels_s = ['hARTM', 'PLSA', 'ARTM with \\n bigrams', 'ARTM', 'LDA', 'hARTM with bigrams', 'hARTM with \\n Hierarchical Entropy', 'hARTM with \\n bigrams and\\n Hierarchical Entropy']\n",
        "res_s = np.array([0.07967388010503, 0.0796879, 0.07995600, 0.0798010, 0.0798715, 0.0799970277, 0.079829554, 0.08018838538])\n",
        "#res_s *= (410**2)\n",
        "values_s = list(zip(res_s, [6.96, 10.1, 5.84, 6.91, 6.32, 4.75, 5.71, 2.96]))"
      ],
      "execution_count": null,
      "outputs": []
    },
    {
      "cell_type": "code",
      "metadata": {
        "id": "ldyjzqyMjXME",
        "colab": {
          "base_uri": "https://localhost:8080/"
        },
        "outputId": "7b41a549-a5cc-4cbd-a2ca-e8091f54796d"
      },
      "source": [
        "for i, label in enumerate(labels_s):\n",
        "    print(label.replace('\\n', '\\\\\\\\') + ' & ' + str(values_s[i][0]) + ' & ' + str(values_s[i][1]) + ' \\\\\\\\')"
      ],
      "execution_count": null,
      "outputs": [
        {
          "output_type": "stream",
          "text": [
            "hARTM & 0.07967388010503 & 6.96 \\\\\n",
            "PLSA & 0.0796879 & 10.1 \\\\\n",
            "ARTM with \\\\ bigrams & 0.079956 & 5.84 \\\\\n",
            "ARTM & 0.079801 & 6.91 \\\\\n",
            "LDA & 0.0798715 & 6.32 \\\\\n",
            "hARTM with bigrams & 0.0799970277 & 4.75 \\\\\n",
            "hARTM with \\\\ Hierarchical Entropy & 0.079829554 & 5.71 \\\\\n",
            "hARTM with \\\\ bigrams and\\\\ Hierarchical Entropy & 0.08018838538 & 2.96 \\\\\n"
          ],
          "name": "stdout"
        }
      ]
    },
    {
      "cell_type": "code",
      "metadata": {
        "id": "IRTNGdMkPTxC",
        "colab": {
          "base_uri": "https://localhost:8080/",
          "height": 337
        },
        "outputId": "8db4715f-3435-45d9-fa3f-502bcca45285"
      },
      "source": [
        "plt.rcParams['figure.figsize'] = [10, 5]\n",
        "words = ['PLSA', 'ARTM', 'LDA', 'hARTM']#labels_s\n",
        "word2Ind_plot_test = dict(zip(labels_s, np.arange(0, len(labels_s))))\n",
        "plot_embeddings(values_s, word2Ind_plot_test, words)"
      ],
      "execution_count": null,
      "outputs": [
        {
          "output_type": "display_data",
          "data": {
            "image/png": "[encoded data removed]",
            "text/plain": [
              "<Figure size 720x360 with 1 Axes>"
            ]
          },
          "metadata": {
            "tags": [],
            "needs_background": "light"
          }
        }
      ]
    },
    {
      "cell_type": "markdown",
      "metadata": {
        "id": "faigfryAYO7z"
      },
      "source": [
        "Если не выбрасывать 15 статей"
      ]
    },
    {
      "cell_type": "code",
      "metadata": {
        "id": "YSRMNyB9WvgT"
      },
      "source": [
        "labels_s = ['LDA', 'hARTM with \\n Hierarchical Entropy', 'ARTM', 'hARTM', 'PLSA']\n",
        "res_s = np.array([13443.464755, 13458.69712, 13446.46, 13430.070,  13395.027])\n",
        "# res_s /= 425**2\n",
        "values_s = list(zip(res_s, [7.28, 5.49, 6.89, 7.86, 12.5]))\n",
        "\n",
        "labels_b = ['ARTM with \\n bigrams', 'ARTM', 'LDA', 'hARTM with bigrams', 'hARTM',\\\n",
        "            'hARTM with bigrams \\n and Hierarchical Entropy', 'hARTM with \\n Hierarchical Entropy']\n",
        "res_b = np.array([319125, 319071, 319034, 318970, 318899, 318667, 318566, 317000])\n",
        "res_b = res_b/(9503**2)\n",
        "values_b = list(zip(res_b, [65, 148, 148, 42, 68, 22, 38]))"
      ],
      "execution_count": null,
      "outputs": []
    },
    {
      "cell_type": "code",
      "metadata": {
        "id": "UEZLmPjXSFYl",
        "colab": {
          "base_uri": "https://localhost:8080/",
          "height": 337
        },
        "outputId": "e1b5db9f-044a-482a-be03-fc3a2b630135"
      },
      "source": [
        "plt.rcParams['figure.figsize'] = [10, 5]\n",
        "words = labels_s\n",
        "word2Ind_plot_test = dict(zip(words, np.arange(0, len(words))))\n",
        "plot_embeddings(values_s, word2Ind_plot_test, words)"
      ],
      "execution_count": null,
      "outputs": [
        {
          "output_type": "display_data",
          "data": {
            "image/png": "[encoded data removed]",
            "text/plain": [
              "<Figure size 720x360 with 1 Axes>"
            ]
          },
          "metadata": {
            "tags": []
          }
        }
      ]
    },
    {
      "cell_type": "code",
      "metadata": {
        "id": "Jx8dhxbCVrpH",
        "colab": {
          "base_uri": "https://localhost:8080/",
          "height": 337
        },
        "outputId": "aaf5cd90-3872-4053-a7d8-32d1d6cdaf37"
      },
      "source": [
        "plt.rcParams['figure.figsize'] = [10, 5]\n",
        "words = ['ARTM', 'LDA', 'hARTM']#labels_b\n",
        "word2Ind_plot_test = dict(zip(labels_b, np.arange(0, len(labels_b))))\n",
        "plot_embeddings(values_b, word2Ind_plot_test, words)"
      ],
      "execution_count": null,
      "outputs": [
        {
          "output_type": "display_data",
          "data": {
            "image/png": "[encoded data removed]",
            "text/plain": [
              "<Figure size 720x360 with 1 Axes>"
            ]
          },
          "metadata": {
            "tags": [],
            "needs_background": "light"
          }
        }
      ]
    },
    {
      "cell_type": "markdown",
      "metadata": {
        "id": "-obBAD4kCYt8"
      },
      "source": [
        "# Архив"
      ]
    },
    {
      "cell_type": "code",
      "metadata": {
        "id": "Ihs6qTm8NFie"
      },
      "source": [
        "def Jaccard(tuple_1, tuple_2):\n",
        "    set_1 = set(tuple_1)\n",
        "    set_2 = set(tuple_2)\n",
        "    return len(set_1 & set_2) / len(set_1 | set_2)"
      ],
      "execution_count": null,
      "outputs": []
    },
    {
      "cell_type": "code",
      "metadata": {
        "id": "BUaXPW1DNyFg"
      },
      "source": [
        "def get_metric(root_w, root_g):\n",
        "    q = deque([(root_w, root_g)])\n",
        "    res = 0\n",
        "    while len(q)>0:\n",
        "        current = q.popleft()\n",
        "        root_wiki = current[0]\n",
        "        root_graph = current[1]\n",
        "        not_mapped_elem = np.ones(len(wiki[root_wiki]), dtype=bool)\n",
        "        for elem in graph[root_graph]:                                           #graph\n",
        "            jac = []\n",
        "            for j, elem_wiki in enumerate(wiki[root_wiki]):\n",
        "                jac.append(Jaccard(elem, elem_wiki) if not_mapped_elem[j] else -1)\n",
        "            i = np.argmax(jac)\n",
        "            max_jac_val = jac[i]\n",
        "            if max_jac_val != 0:\n",
        "                not_mapped_elem[i] = False\n",
        "                new_root_wiki = wiki[root_wiki][i][0]\n",
        "                res += max_jac_val/len(trees[l])\n",
        "                if (new_root_wiki in wiki.keys()) and (elem[0] in graph.keys()): #graph\n",
        "                    q.append((new_root_wiki, elem[0]))\n",
        "    if res != 0:\n",
        "        with open(gDrivePath + f'/res/{res}_graph_{l}_t{t}_k{k}.pickle', 'wb') as f:\n",
        "            pickle.dump(graph, f)\n",
        "    return res"
      ],
      "execution_count": null,
      "outputs": []
    },
    {
      "cell_type": "code",
      "metadata": {
        "id": "g9JJeb_siCmL",
        "colab": {
          "base_uri": "https://localhost:8080/",
          "height": 34
        },
        "outputId": "987c9c93-ca09-4a9a-a1c4-797cc24229e1"
      },
      "source": [
        "metr = get_metric(0, 0)"
      ],
      "execution_count": null,
      "outputs": [
        {
          "output_type": "execute_result",
          "data": {
            "text/plain": [
              "0"
            ]
          },
          "metadata": {
            "tags": []
          },
          "execution_count": 179
        }
      ]
    },
    {
      "cell_type": "code",
      "metadata": {
        "id": "mGPJV--R7zzw",
        "colab": {
          "base_uri": "https://localhost:8080/",
          "height": 34
        },
        "outputId": "a8df2dcd-bff4-432f-eb3b-2f89e645079f"
      },
      "source": [
        "res = ['digraph {node [shape=box]; ', '', '', '};']\n",
        "for i in range(len(graph['0'])):\n",
        "    sgr = ['digraph {node [shape=box]; ', '', '', '};']\n",
        "    dfs(graph['0'][i], graph)\n",
        "    res[1] += sgr[1]\n",
        "    res[2] += sgr[2]\n",
        "str_g = res[0]+res[1]+res[2]+res[3]\n",
        "draw_gr = pydotplus.graph_from_dot_data(str_g.encode('utf-8', errors='ignore'))\n",
        "draw_gr.write_pdf('/content/drive/My Drive/M1P/hier_2.pdf')"
      ],
      "execution_count": null,
      "outputs": [
        {
          "output_type": "execute_result",
          "data": {
            "text/plain": [
              "True"
            ]
          },
          "metadata": {
            "tags": []
          },
          "execution_count": 342
        }
      ]
    },
    {
      "cell_type": "code",
      "metadata": {
        "id": "5sIwj7s0YANl"
      },
      "source": [
        "y = sorted([g(i) for i in tqdm(theta0.columns)])"
      ],
      "execution_count": null,
      "outputs": []
    },
    {
      "cell_type": "code",
      "metadata": {
        "id": "Ppd7QKVt4Pq6",
        "colab": {
          "base_uri": "https://localhost:8080/",
          "height": 279
        },
        "outputId": "aeef50c8-4814-432c-e091-694db7d04ea9"
      },
      "source": [
        "plt.plot(np.arange(0, 9580, 1), y)\n",
        "plt.ylabel('Entropy value')\n",
        "plt.xlabel('Article index')\n",
        "plt.grid(True)"
      ],
      "execution_count": null,
      "outputs": [
        {
          "output_type": "display_data",
          "data": {
            "image/png": "[encoded data removed]",
            "text/plain": [
              "<Figure size 432x288 with 1 Axes>"
            ]
          },
          "metadata": {
            "tags": []
          }
        }
      ]
    },
    {
      "cell_type": "code",
      "metadata": {
        "id": "GRtiBfQszMHz",
        "colab": {
          "base_uri": "https://localhost:8080/",
          "height": 51
        },
        "outputId": "9ad53309-f0b7-44da-81f3-ebc090490a71"
      },
      "source": [
        "res = np.array([13468, 17023, 16448, 18277, 16555, 16214, 19255, 18287, 18270])\n",
        "res/(425**2)"
      ],
      "execution_count": null,
      "outputs": [
        {
          "output_type": "execute_result",
          "data": {
            "text/plain": [
              "array([0.07456332, 0.09424498, 0.09106159, 0.10118754, 0.09165398,\n",
              "       0.08976609, 0.10660208, 0.10124291, 0.10114879])"
            ]
          },
          "metadata": {
            "tags": []
          },
          "execution_count": 17
        }
      ]
    },
    {
      "cell_type": "code",
      "metadata": {
        "id": "xoPzIsWD0dqI",
        "colab": {
          "base_uri": "https://localhost:8080/",
          "height": 34
        },
        "outputId": "22c890c2-4888-4c34-f8e5-7da48e6d8e10"
      },
      "source": [
        "res = np.array([13393.72, 13430.0700, 13457.44, 13458.697,  13468.027])\n",
        "res/(425**2)"
      ],
      "execution_count": null,
      "outputs": [
        {
          "output_type": "execute_result",
          "data": {
            "text/plain": [
              "array([0.07415208, 0.07435333, 0.07450486, 0.07451182, 0.07456347])"
            ]
          },
          "metadata": {
            "tags": []
          },
          "execution_count": 18
        }
      ]
    },
    {
      "cell_type": "code",
      "metadata": {
        "id": "vGATzKNV1Gn9",
        "colab": {
          "base_uri": "https://localhost:8080/",
          "height": 51
        },
        "outputId": "54e153da-03d2-41fe-9e36-e595dcfe2294"
      },
      "source": [
        "res = np.array([319125, 319071, 319034, 318970, 318899, 318667, 318566, 317000])\n",
        "res/(9503**2)"
      ],
      "execution_count": null,
      "outputs": [
        {
          "output_type": "execute_result",
          "data": {
            "text/plain": [
              "array([0.00353378, 0.00353318, 0.00353277, 0.00353206, 0.00353128,\n",
              "       0.00352871, 0.00352759, 0.00351025])"
            ]
          },
          "metadata": {
            "tags": []
          },
          "execution_count": 19
        }
      ]
    },
    {
      "cell_type": "code",
      "metadata": {
        "id": "QI5uLG165c_R"
      },
      "source": [
        "# F.rename(columns=dict(zip(sorted(F.columns), sorted(df['N']))), inplace=True)"
      ],
      "execution_count": null,
      "outputs": []
    },
    {
      "cell_type": "code",
      "metadata": {
        "id": "up0kcM25R1RT",
        "colab": {
          "base_uri": "https://localhost:8080/",
          "height": 265
        },
        "outputId": "8039c9f9-84d1-47bd-c4ee-ffbac192d189"
      },
      "source": [
        "plt.plot(np.arange(0, 9565, 1), sorted([i[1] for i in h_i]))\n",
        "plt.grid(True)"
      ],
      "execution_count": null,
      "outputs": [
        {
          "output_type": "display_data",
          "data": {
            "image/png": "[encoded data removed]",
            "text/plain": [
              "<Figure size 432x288 with 1 Axes>"
            ]
          },
          "metadata": {
            "tags": []
          }
        }
      ]
    }
  ]
}